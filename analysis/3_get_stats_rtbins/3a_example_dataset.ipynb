{
 "cells": [
  {
   "cell_type": "markdown",
   "metadata": {},
   "source": [
    "# Get Stats on Example Dataset\n",
    "This notebook contains the step before extending to all selected datasets"
   ]
  },
  {
   "cell_type": "code",
   "execution_count": 39,
   "metadata": {},
   "outputs": [],
   "source": [
    "import io\n",
    "import sys\n",
    "import json\n",
    "import contextlib\n",
    "from khipu.extended import peaklist_to_khipu_list, export_empCpd_khipu_list\n",
    "\n",
    "sys.path.insert(0, '..')\n",
    "from mining import * "
   ]
  },
  {
   "cell_type": "markdown",
   "metadata": {},
   "source": [
    "## Isotopologue and Adducts from Step2"
   ]
  },
  {
   "cell_type": "code",
   "execution_count": 40,
   "metadata": {},
   "outputs": [],
   "source": [
    "# pos\n",
    "isp_pos = [ (1.003355, '13C/12C', (0, 0.8)),\n",
    "                            (2.00671, '13C/12C*2', (0, 0.8)),\n",
    "                            (3.9948, '44Ca/40Ca', (0, 0.1)), # 2%\n",
    "                            (1.9970, '37Cl/35Cl', (0.1, 0.8)), # 24.24%\n",
    "                            ]\n",
    "\n",
    "asp_pos = [  # initial patterns are relative to M+H+\n",
    "                            (21.98194, 'Na/H'),\n",
    "                            (41.026549, 'ACN'),     # Acetonitrile\n",
    "                            (67.987424, 'NaCOOH'),\n",
    "                            (37.955882, 'K/H'),\n",
    "                            ]\n",
    "\n",
    "dataset_name = 'ST001237_HILICpos_B2_ppm5_3524314'\n",
    "rtime_tolerance = 0.613"
   ]
  },
  {
   "cell_type": "markdown",
   "metadata": {},
   "source": [
    "## Some Reused Functions"
   ]
  },
  {
   "cell_type": "code",
   "execution_count": 41,
   "metadata": {},
   "outputs": [],
   "source": [
    "def get_features_in_rtwindow(list_features, rt_ref, rt_stdev):\n",
    "    '''returns features in list_features that are within rt_stdev\n",
    "    \n",
    "    list_features: full list of features\n",
    "    rt_ref: the reference retention time as the center of window\n",
    "    rt_stdev: tolerance of retention time selecting\n",
    "    \n",
    "    return: list of features inside the given window\n",
    "    '''\n",
    "    return [f for f in list_features if abs(f['rtime']-rt_ref) <= rt_stdev]   \n",
    "\n",
    "def get_khipus_in_rtwindow(list_khipus, rt_ref, rt_stdev):\n",
    "    '''returns khipus in list_khipus that are within rt_stdev\n",
    "    \n",
    "    list_khipus: given list of khipus\n",
    "    rt_ref: the reference retention time as the center of window\n",
    "    rt_stdev: tolerance of retention time selecting\n",
    "    \n",
    "    return: list of khipus inside the given window\n",
    "    '''\n",
    "    return [f for f in list_khipus if abs(f['MS1_pseudo_Spectra'][0]['rtime']-rt_ref) <= rt_stdev]  "
   ]
  },
  {
   "cell_type": "markdown",
   "metadata": {},
   "source": [
    "## Extract Khipus and Features from Example Dataset"
   ]
  },
  {
   "cell_type": "code",
   "execution_count": 42,
   "metadata": {},
   "outputs": [],
   "source": [
    "def get_comprehensive_stats_per_dataset(full_table_path, rt_tolerance, isotope_search_patterns, adduct_search_patterns, ion_mode):\n",
    "    '''construct khipus from given features and related information\n",
    "    \n",
    "    full_table_path: the path to the full feature table of current dataset\n",
    "    rt_tolerance: the retention time tolerance of current dataset. The tolerance is generated in step2 in elution_parameters_45studies.tsv\n",
    "    ion_mode: the ionization mode of current dataset\n",
    "    \n",
    "    returns: \n",
    "    list_khipus: khipu list from given feature list\n",
    "    all_assigned_fids: feature id list of the features being used in khipus\n",
    "    list_features: all feature list\n",
    "    '''\n",
    "    with contextlib.redirect_stdout(io.StringIO()):\n",
    "        _n, list_features = read_features_from_asari_table(open(full_table_path).read())\n",
    "        \n",
    "        for f in list_features:\n",
    "            f['representative_intensity'] = f['peak_area']\n",
    "        list_khipus, all_assigned_fids = peaklist_to_khipu_list(\n",
    "                                list_features, \n",
    "                                isotope_search_patterns=isotope_search_patterns, \n",
    "                                adduct_search_patterns=adduct_search_patterns,\n",
    "                                extended_adducts=[],    # not to confuse later analysis of ISF\n",
    "                                mz_tolerance_ppm=5,\n",
    "                                rt_tolerance=rt_tolerance,\n",
    "                                mode=ion_mode,\n",
    "                                charges=[1, 2, 3],\n",
    "                                )\n",
    "        # remaining_features = [f for f in list_features if f['id'] not in all_assigned_fids]\n",
    "    return export_empCpd_khipu_list(list_khipus), all_assigned_fids, list_features\n"
   ]
  },
  {
   "cell_type": "code",
   "execution_count": 43,
   "metadata": {},
   "outputs": [
    {
     "name": "stdout",
     "output_type": "stream",
     "text": [
      "From ST001237_HILICpos_B2_ppm5_3524314, we got 6254 khipus, 42823 singletons, 57875 features, 49077 representative features.\n"
     ]
    }
   ],
   "source": [
    "list_khipus, all_assigned_fids, list_features = get_comprehensive_stats_per_dataset(\n",
    "    f'../input_data_orbi/{dataset_name}/full_feature_table.tsv', rtime_tolerance,\n",
    "    isp_pos, asp_pos, 'pos')\n",
    "# here singletons mean the features they are not used in khipu assembling\n",
    "remaining_features = [f for f in list_features if f['id'] not in all_assigned_fids] \n",
    "\n",
    "all_representative_features = [] + remaining_features\n",
    "for k in list_khipus:\n",
    "    all_representative_features.append(get_M0(k['MS1_pseudo_Spectra']))\n",
    "    \n",
    "print(f'From {dataset_name}, we got {len(list_khipus)} khipus, {len(remaining_features)} singletons, ' +\\\n",
    "      f'{len(list_features)} features, {len(all_representative_features)} representative features.')\n",
    "\n"
   ]
  },
  {
   "cell_type": "markdown",
   "metadata": {},
   "source": [
    "The representative features only include khipu features who are M0"
   ]
  },
  {
   "cell_type": "markdown",
   "metadata": {},
   "source": [
    "## Use Frequent MZ Delta to Explain "
   ]
  },
  {
   "cell_type": "code",
   "execution_count": 44,
   "metadata": {},
   "outputs": [
    {
     "data": {
      "text/plain": [
       "(14,\n",
       " (28.0312,\n",
       "  '28.0312\\t550\\t28.0312\\t[\\'28.0313\\', \\'± C2H4, natural alkane chains such as fatty acids\\', \"{\\'C\\': 2, \\'H\\': 4}\"]'))"
      ]
     },
     "execution_count": 44,
     "metadata": {},
     "output_type": "execute_result"
    }
   ],
   "source": [
    "candidate_fragments = '''14.0155\t792\t14.0155\t['14.01565', \"± CH2, alkane chains, waxes, fatty acids, methylation; or '-[C3H6ON] <-> -[C2H4ON], acrylamide versus iodoacetamide in cysteine alkylation (gels)\", \"{'C': 1, 'H': 2}\"]\n",
    "18.0104\t780\t18.0104\t['-18.010565', 'H2O', \"{'H': -2, 'O': -1}\"]\n",
    "2.0156\t634\t2.0156\t['2.01565', '± 2H, opening or forming of double bond', \"{'H': 2}\"]\n",
    "28.0312\t550\t28.0312\t['28.0313', '± C2H4, natural alkane chains such as fatty acids', \"{'C': 2, 'H': 4}\"]\n",
    "15.9948\t420\t15.9948\t['15.99492', '± O, e.g. oxidation/reduction', \"{'O': 1}\"]\n",
    "17.0264\t404\t17.0264\t['-17.026549', 'NH3', \"{'N': -1, 'H': -3}\"]\n",
    "26.0155\t392\t26.0155\t[' C2H2']\n",
    "27.9948\t385\t27.9948\t['27.99492', '± CO', \"{'C': 1, 'O': 1}\"]\n",
    "32.026\t311\t32.0261\t['32.026215', 'MeOH', \"{'C': 1, 'H': 4, 'O': 1}\"]\n",
    "42.0104\t301\t42.0104\t['42.01057', '± COCH2', \"{'C': 2, 'O': 1, 'H': 2}\"]\n",
    "67.9872\t295\t67.9873\t['67.987424', 'NaCOOH', \"{'C': 1, 'O': 2, 'Na': 1, 'H': 1}\"]\n",
    "13.9791\t287\t13.9791\t['13.97927', 'O <-> 2H, e.g. Oxidation follwed by H2O elimination', \"{'H': -2, 'O': 1}\"]\n",
    "42.0468\t278\t42.0468\t['42.04695', '± C3H6, propylation', \"{'C': 3, 'H': 6}\"]\n",
    "46.0053\t277\t46.0053\t['-46.005479', 'H2O+CO', \"{'C': -1, 'H': -2, 'O': -2}\"]\n",
    "'''\n",
    "candidate_fragments = [\n",
    "    (float(x.split()[0]), x) for x in candidate_fragments.splitlines()\n",
    "]\n",
    "len(candidate_fragments), candidate_fragments[3]"
   ]
  },
  {
   "cell_type": "code",
   "execution_count": 45,
   "metadata": {},
   "outputs": [],
   "source": [
    "# sort khipus by mass\n",
    "list_khipus = sorted(list_khipus, key=lambda x: x['neutral_formula_mass'], reverse=True)"
   ]
  },
  {
   "cell_type": "code",
   "execution_count": 50,
   "metadata": {},
   "outputs": [],
   "source": [
    "\n",
    "def explain_a_dataset_by_mz_deltas(list_khipus, remaining_features, isf_candidate_fragments, rt_stdev=0.613):\n",
    "    '''map the pairwise mass distance of the khipus and 'free' features to isf_candidate_fragments\n",
    "    \n",
    "    list_khipus: list of khipus\n",
    "    remaining_features: list of orphan features\n",
    "    isf_candidate_fragments: list of the most frequent delta mass values \n",
    "    rt_stdev: half window of rt tolerance\n",
    "    \n",
    "    return:\n",
    "    explained_khipu_ids: list of explained khipu ids\n",
    "    explained_feature_ids: list of explained feature ids\n",
    "    delta_values_used: list of delta mz values used for explanation\n",
    "    '''\n",
    "    def mz_delta_in_list(mz, mlist, max_diff=0.0005, ppm=5):\n",
    "        '''check if the given mz value is in given mz list(meet the requirement of certain number or ppm)\n",
    "        \n",
    "        mz: a float number of m/z delta value\n",
    "        mlist: a list of m/z value\n",
    "        max_diff: fixed number tolerance\n",
    "        ppm: ppm tolerance\n",
    "        \n",
    "        return: a boolean value indicating if the given mz sits in the window of any mz value in the given mlist.\n",
    "        '''\n",
    "        r = False\n",
    "        if mz > max_diff:\n",
    "            deltas = sorted([abs(x-mz) for x in mlist])\n",
    "            if deltas[0] <= max_diff or deltas[0]/mz < ppm*1e-6:\n",
    "                r = True\n",
    "        return r \n",
    "    \n",
    "    explained_khipu_ids, explained_feature_ids, delta_values_used = [], [], []\n",
    "\n",
    "    # iterate through given khipu list\n",
    "    for ii in range(len(list_khipus)-1):\n",
    "        # get rtime of current khipu\n",
    "        rt_ref = list_khipus[ii]['MS1_pseudo_Spectra'][0]['rtime']\n",
    "        # get mz of M0 feature in current khipu\n",
    "        base_mz = get_M0(list_khipus[ii]['MS1_pseudo_Spectra'])['mz']\n",
    "        # get list of khipus whose mass value is bigger than current one\n",
    "        khipus_in_rtwindow = get_khipus_in_rtwindow(\n",
    "            list_khipus[ii+1:], \n",
    "            rt_ref, \n",
    "            rt_stdev)\n",
    "        # iterate through the khipus in rtime window to get whose delta to given one matching isf_candidate_fragments\n",
    "        for k in khipus_in_rtwindow:\n",
    "            _d = list_khipus[ii]['neutral_formula_mass']-k['neutral_formula_mass']\n",
    "            if mz_delta_in_list(_d, isf_candidate_fragments):\n",
    "                explained_khipu_ids.append(k['interim_id'])\n",
    "                delta_values_used.append((_d, k['interim_id'], rt_ref-get_M0(k['MS1_pseudo_Spectra'])['rtime']))\n",
    "        \n",
    "        # iterate through the features in rtime window to get whose delta to given one matching isf_candidate_fragments\n",
    "        features_in_rtwindow = get_features_in_rtwindow(\n",
    "            remaining_features, \n",
    "            rt_ref, \n",
    "            rt_stdev)\n",
    "        for f in features_in_rtwindow:\n",
    "            _d = base_mz - f['mz']\n",
    "            if mz_delta_in_list(_d, isf_candidate_fragments):\n",
    "                explained_feature_ids.append(f['id'])\n",
    "                delta_values_used.append((_d, f['id'], rt_ref-f['rtime']))\n",
    "                \n",
    "    return explained_khipu_ids, explained_feature_ids, delta_values_used"
   ]
  },
  {
   "cell_type": "code",
   "execution_count": 51,
   "metadata": {},
   "outputs": [
    {
     "name": "stdout",
     "output_type": "stream",
     "text": [
      "784 khipus are explained, 1045 features are explained.\n"
     ]
    }
   ],
   "source": [
    "isf_candidate_fragments = [x[0] for x in candidate_fragments]\n",
    "\n",
    "explained_khipu_ids, explained_feature_ids, delta_values_used = explain_a_dataset_by_mz_deltas(list_khipus, \n",
    "                                                               remaining_features,\n",
    "                                                               isf_candidate_fragments)\n",
    "print(f'{len(set(explained_khipu_ids))} khipus are explained, {len(set(explained_feature_ids))} features are explained.')"
   ]
  },
  {
   "cell_type": "markdown",
   "metadata": {},
   "source": [
    "## Use MoNA to Explain"
   ]
  },
  {
   "cell_type": "code",
   "execution_count": 52,
   "metadata": {},
   "outputs": [],
   "source": [
    "from matchms.importing import load_from_msp\n",
    "from mass2chem.search import build_centurion_tree, find_all_matches_centurion_indexed_list\n",
    "\n",
    "from asari.tools import match_features as mf\n",
    "from asari.mass_functions import mass_paired_mapping, all_mass_paired_mapping\n",
    "import tqdm\n",
    "import logging\n",
    "logging.getLogger(\"matchms\").setLevel(logging.ERROR)\n"
   ]
  },
  {
   "cell_type": "markdown",
   "metadata": {},
   "source": [
    "### Positive Ion Mode"
   ]
  },
  {
   "cell_type": "code",
   "execution_count": 53,
   "metadata": {},
   "outputs": [
    {
     "name": "stderr",
     "output_type": "stream",
     "text": [
      "13973it [00:05, 2739.54it/s]"
     ]
    },
    {
     "name": "stdout",
     "output_type": "stream",
     "text": [
      "filtered MS2 Size:  13973  Compounds with  13973  MS2 Spectra\n"
     ]
    },
    {
     "name": "stderr",
     "output_type": "stream",
     "text": [
      "\n"
     ]
    }
   ],
   "source": [
    "# from JM\n",
    "path = '../MoNA_MS2/filtered_MoNA-export-LC-MS-MS_Positive_Mode.msp'\n",
    "\n",
    "spectral_registry = {}\n",
    "total = 0\n",
    "for x in tqdm.tqdm(load_from_msp(path)):\n",
    "        try:\n",
    "            inchikey = x.metadata_dict()['inchikey']\n",
    "            if inchikey:\n",
    "                if inchikey not in spectral_registry:\n",
    "                    spectral_registry[inchikey] = []\n",
    "                spectral_registry[inchikey].append(x)\n",
    "                total += 1\n",
    "        except:\n",
    "            pass\n",
    "\n",
    "print(\"filtered MS2 Size: \", str(len(spectral_registry)), \" Compounds with \", str(total), \" MS2 Spectra\")"
   ]
  },
  {
   "cell_type": "code",
   "execution_count": 54,
   "metadata": {},
   "outputs": [
    {
     "name": "stdout",
     "output_type": "stream",
     "text": [
      "13670 spectra are found with precursors.\n",
      "3290 (0.3053053053053053) M0 khipu features map with precursors; \n",
      "15378 (0.44517194957777506) features outside khipus(singletons) map with precursors.\n"
     ]
    }
   ],
   "source": [
    "def extract_ms2_spectrum(sp, N=5):\n",
    "    '''get precursor, name and top N (intensity, mz) from given ms2 spectrum\n",
    "\n",
    "    sp: given spectrum to extract\n",
    "    N: top N intensity:mz pair to extract\n",
    "    \n",
    "    return: (precursor mz, compound name, (intensity, mz) list). Ex.\n",
    "            (248.0585,\n",
    "            'Forchlorfenuron',\n",
    "            [(100.0, 111.0553),\n",
    "            (95.390586, 129.0214),\n",
    "            (17.257158, 93.0448),\n",
    "            (11.163815, 155.0007),\n",
    "            (10.442742, 137.0346)])\n",
    "    '''\n",
    "    _d = sp.metadata_dict()\n",
    "    _precursor, _name = _d['precursor_mz'], _d['compound_name']\n",
    "    imz = zip(sp.peaks.intensities, sp.peaks.mz)\n",
    "    imz = [x for x in imz if x[1] < _precursor - 0.01 and x[0] > 0.1] # excluding _precursor and small peaks\n",
    "    return _precursor, _name, sorted(imz, reverse=True)[:N]\n",
    "\n",
    "\n",
    "# ms2List is usable MoNA MS/MS compounds\n",
    "ms2List, no_precursor = [], []\n",
    "for sp in spectral_registry.values(): \n",
    "    try:\n",
    "        ms2List.append(extract_ms2_spectrum(sp[0])) \n",
    "    except KeyError:\n",
    "        no_precursor.append(sp[0])\n",
    "        \n",
    "print(f'{len(ms2List)} spectra are found with precursors.')\n",
    "\n",
    "precursor_mzs = [x[0] for x in ms2List]\n",
    "M0_khipu_feature_mzs = [get_M0(k['MS1_pseudo_Spectra'])['mz'] for k in list_khipus]\n",
    "remaining_feature_mzs = [f['mz'] for f in remaining_features] # remaining feature also refers to singletons\n",
    "\n",
    "# How many precursors match M0 khipu features\n",
    "precursor_M0_map_list = all_mass_paired_mapping(precursor_mzs, M0_khipu_feature_mzs, std_ppm=5)[0]\n",
    "precursor_remaining_feature_list = all_mass_paired_mapping(precursor_mzs, remaining_feature_mzs, std_ppm=5)[0]\n",
    "\n",
    "print(f'{len(precursor_M0_map_list)} ({len(set([khipu_f[1] for khipu_f in precursor_M0_map_list]))/ len(set(M0_khipu_feature_mzs))}) M0 khipu features map with precursors; \\n' +\\\n",
    "      f'{len(precursor_remaining_feature_list)} ({len(set([khipu_f[1] for khipu_f in precursor_remaining_feature_list]))/ len(set(remaining_feature_mzs))}) features outside khipus(singletons) map with precursors.')"
   ]
  },
  {
   "cell_type": "code",
   "execution_count": 72,
   "metadata": {},
   "outputs": [],
   "source": [
    "def find_match_ms2_from_mzs_in_rtbin(mzs_in_rtbin, ms2_fragments, limit_ppm=5):\n",
    "    '''returns ms2 fragments that are matched in mzs_in_rtbin\n",
    "    \n",
    "    mzs_in_rtbin: list of mz values in a certain rt bin. Ex, [81.0178, 83.0863, 75.0996, 71.05, 72.0715]\n",
    "    ms2_fragments: list of tuple (intenisty, mz). Ex. [(100.0, 104.05261), (73.74, 56.04967), (63.76, 133.03153), (26.88, 61.01076), (25.4, 102.05479)]\n",
    "    \n",
    "    note: ms2_precursor and khipu M0 should already match before this.\n",
    "    \n",
    "    return: list of matched mz values\n",
    "    '''\n",
    "    found = []\n",
    "    if mzs_in_rtbin and ms2_fragments:\n",
    "        for x in mzs_in_rtbin:\n",
    "            for mz in ms2_fragments:\n",
    "                if abs(mz-x['mz']) < 0.000001*limit_ppm*mz:\n",
    "                    found.append((mz, x['id']))\n",
    "    return found\n",
    "\n",
    "def find_match_ms2_from_feature(all_representative_features, feature, rt_half_width, ms2_tree, limit_ppm=5):\n",
    "    ''' Given a feature, find the ms2 values matched with features in the same rtime window.\n",
    "    \n",
    "    all_representative_features: list of all features, from which we are looking for featues in rtwindow\n",
    "    feature: the given feature we want to find matched ms2 mzs\n",
    "    rt_half_width: the radius we used for selecting features in rtwindow\n",
    "    ms2_tree: the centurion tree built from MoNA positive MS2 spectra\n",
    "    \n",
    "    return list of tuple containing mapping information. Ex,\n",
    "    [('F49362',\n",
    "        {'mz': 655.457,\n",
    "        'rtime': 0,\n",
    "        'name': 'phorbol-12,13-didecanoate',\n",
    "        'peaks': [(100.0, 311.164459),\n",
    "            (55.231621, 199.111877),\n",
    "            (49.650773, 293.153961),\n",
    "            (39.600037, 107.086075),\n",
    "            (31.224962, 265.158875)]},\n",
    "        [265.158875])]\n",
    "    '''\n",
    "    in_rtwindow = get_features_in_rtwindow(all_representative_features, feature['rtime'], rt_half_width)\n",
    "    in_rtwindow = [f for f in in_rtwindow if f['mz'] < feature['mz']*(1+limit_ppm*1e-6)] # all mzs in the rt window with M0 feature\n",
    "    \n",
    "    matched = []\n",
    "    # find ms2-precursor-matched khipu\n",
    "    matched_precursors = find_all_matches_centurion_indexed_list(feature['mz'], ms2_tree, limit_ppm=5)\n",
    "    for p in matched_precursors:\n",
    "        matched_ms2_mzs = find_match_ms2_from_mzs_in_rtbin(in_rtwindow, [x[1] for x in p['peaks']], 5) # [x[1] for x in p['peaks']] is the mz list under one precursor\n",
    "        if matched_ms2_mzs:\n",
    "            matched.append((feature['id_number'], p, matched_ms2_mzs))\n",
    "    \n",
    "    return matched"
   ]
  },
  {
   "cell_type": "code",
   "execution_count": 73,
   "metadata": {},
   "outputs": [],
   "source": [
    "# build centurion tree accelerating the mapping\n",
    "ms2_tree = build_centurion_tree([{'mz': x[0], 'rtime': 0, 'name': x[1], 'peaks': x[2]} for x in ms2List])\n",
    "\n",
    "matched_m0_features = []\n",
    "m0_features = [get_M0(k['MS1_pseudo_Spectra']) for k in list_khipus]\n",
    "for m0_feature in m0_features:\n",
    "    matched_m0_feature = find_match_ms2_from_feature(all_representative_features, m0_feature, 0.613, ms2_tree)\n",
    "    if matched_m0_feature:\n",
    "        matched_m0_features += matched_m0_feature"
   ]
  },
  {
   "cell_type": "code",
   "execution_count": 74,
   "metadata": {},
   "outputs": [],
   "source": [
    "matched_remaining_features = []\n",
    "for remain_f in remaining_features:\n",
    "    matched_remaining_feature = find_match_ms2_from_feature(all_representative_features, remain_f, 0.613, ms2_tree)\n",
    "    if matched_remaining_feature:\n",
    "        matched_remaining_features += matched_remaining_feature"
   ]
  },
  {
   "cell_type": "code",
   "execution_count": 75,
   "metadata": {},
   "outputs": [
    {
     "name": "stdout",
     "output_type": "stream",
     "text": [
      "1243 ms2 peaks are matched on any of the ms1 peaks, out of 1057 precursors\n",
      "This dataset has 49077 features and 6254 khipus.\n",
      "Using 13670 cpds from MoNA.\n"
     ]
    }
   ],
   "source": [
    "_matched_ms2_peaks = []\n",
    "for m in matched_m0_features+matched_remaining_features:\n",
    "    _matched_ms2_peaks += m[2]\n",
    "    \n",
    "print(f'{len(set(_matched_ms2_peaks))} ms2 peaks are matched on any of the ms1 peaks, out of {len(matched_m0_features+matched_remaining_features)} precursors')\n",
    "print(f'This dataset has {len(all_representative_features)} features and {len(list_khipus)} khipus.')\n",
    "print('Using 13670 cpds from MoNA.')"
   ]
  }
 ],
 "metadata": {
  "kernelspec": {
   "display_name": "venv",
   "language": "python",
   "name": "python3"
  },
  "language_info": {
   "codemirror_mode": {
    "name": "ipython",
    "version": 3
   },
   "file_extension": ".py",
   "mimetype": "text/x-python",
   "name": "python",
   "nbconvert_exporter": "python",
   "pygments_lexer": "ipython3",
   "version": "3.12.4"
  }
 },
 "nbformat": 4,
 "nbformat_minor": 2
}
