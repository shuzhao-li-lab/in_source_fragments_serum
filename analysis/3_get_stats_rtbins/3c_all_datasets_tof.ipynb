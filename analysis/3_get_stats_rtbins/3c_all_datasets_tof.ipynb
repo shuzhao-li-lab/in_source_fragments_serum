{
 "cells": [
  {
   "cell_type": "markdown",
   "metadata": {},
   "source": [
    "# Get stats on ToF datasets\n",
    "\n",
    "This notebook explains the delta values within an RT window via isotopologues, adducts and fragments.\n",
    "\n",
    "- How many are explained by probable fragments; num of features and khipus.\n",
    "- How many are explained by MS2 (top 5 spectra per cpd in MoNA)\n"
   ]
  },
  {
   "cell_type": "code",
   "execution_count": 4,
   "metadata": {},
   "outputs": [],
   "source": [
    "import io\n",
    "import os\n",
    "import sys\n",
    "import json\n",
    "import contextlib\n",
    "from matchms.importing import load_from_msp\n",
    "from khipu.extended import peaklist_to_khipu_list, export_empCpd_khipu_list\n",
    "from mass2chem.search import build_centurion_tree, find_all_matches_centurion_indexed_list\n",
    "\n",
    "sys.path.insert(0, '..')\n",
    "from mining import * \n",
    "from isf_helper import (extract_ms2_spectrum, \n",
    "                        get_comprehensive_stats_per_dataset, \n",
    "                        explain_a_dataset_by_mz_deltas, \n",
    "                        explain_a_dataset_byMS2)"
   ]
  },
  {
   "cell_type": "markdown",
   "metadata": {},
   "source": [
    "## Isotopologue and Adducts from Step2"
   ]
  },
  {
   "cell_type": "code",
   "execution_count": 5,
   "metadata": {},
   "outputs": [],
   "source": [
    "# pos\n",
    "isp_pos = [ (1.003355, '13C/12C', (0, 0.8)),\n",
    "                            (2.00671, '13C/12C*2', (0, 0.8)),\n",
    "                            # (3.9948, '44Ca/40Ca', (0, 0.1)), # 2%\n",
    "                            (1.9970, '37Cl/35Cl', (0.1, 0.8)), # 24.24%\n",
    "                            ]\n",
    "\n",
    "asp_pos = [  # initial patterns are relative to M+H+\n",
    "                            (21.98194, 'Na/H'),\n",
    "                            (17.0265, 'NH3'),\n",
    "                            (41.026549, 'ACN'),     # Acetonitrile\n",
    "                            (67.987424, 'NaCOOH'),\n",
    "                            (32.026215, 'MeOH')\n",
    "                            ]"
   ]
  },
  {
   "cell_type": "code",
   "execution_count": 6,
   "metadata": {},
   "outputs": [],
   "source": [
    "# neg \n",
    "isp_neg = [ (1.003355, '13C/12C', (0, 0.8)),\n",
    "                            (2.00671, '13C/12C*2', (0, 0.8)),\n",
    "                            (1.9970, '37Cl/35Cl', (0.1, 0.8)), # 24.24%\n",
    "                            (1.9958, '32S/34S', (0, 0.1)), # 4%\n",
    "                            ]\n",
    "\n",
    "asp_neg = [  # initial patterns are relative to M+H+\n",
    "                            (21.98194, 'Na/H'), \n",
    "                            (67.987424, 'NaCOOH'),\n",
    "                            (135.974848, 'NaCOOH*2'),\n",
    "                            (82.0030, 'NaCH2COOH'),\n",
    "                            # (1.99566, 'F <-> OH'), \n",
    "                            ]"
   ]
  },
  {
   "cell_type": "markdown",
   "metadata": {},
   "source": [
    "## Loading MoNA MS2"
   ]
  },
  {
   "cell_type": "code",
   "execution_count": 7,
   "metadata": {},
   "outputs": [],
   "source": [
    "import tqdm\n",
    "import logging\n",
    "logging.getLogger(\"matchms\").setLevel(logging.ERROR)"
   ]
  },
  {
   "cell_type": "code",
   "execution_count": 36,
   "metadata": {},
   "outputs": [],
   "source": [
    "def load_from_mona(path):\n",
    "    '''read from mona ms2 file from a given path\n",
    "    \n",
    "    path: the path to mona .msp file\n",
    "    \n",
    "    return: the inchikey-spectra pair.\n",
    "    '''\n",
    "    # reused from JM\n",
    "    spectral_registry = {}\n",
    "    total = 0\n",
    "    for x in tqdm.tqdm(load_from_msp(path)):\n",
    "        try:\n",
    "            inchikey = x.metadata_dict()['inchikey']\n",
    "            if inchikey:\n",
    "                if inchikey not in spectral_registry:\n",
    "                    spectral_registry[inchikey] = []\n",
    "                spectral_registry[inchikey].append(x)\n",
    "                total += 1\n",
    "        except:\n",
    "            pass\n",
    "\n",
    "    print(\"MS2 #: \", str(len(spectral_registry)), \" Compounds with \", str(total), \" MS2 Spectra\")\n",
    "    return spectral_registry\n"
   ]
  },
  {
   "cell_type": "code",
   "execution_count": 37,
   "metadata": {},
   "outputs": [
    {
     "name": "stderr",
     "output_type": "stream",
     "text": [
      "13973it [00:05, 2530.72it/s]\n"
     ]
    },
    {
     "name": "stdout",
     "output_type": "stream",
     "text": [
      "MS2 #:  13973  Compounds with  13973  MS2 Spectra\n"
     ]
    },
    {
     "name": "stderr",
     "output_type": "stream",
     "text": [
      "9184it [00:03, 2848.84it/s]"
     ]
    },
    {
     "name": "stdout",
     "output_type": "stream",
     "text": [
      "MS2 #:  9184  Compounds with  9184  MS2 Spectra\n"
     ]
    },
    {
     "name": "stderr",
     "output_type": "stream",
     "text": [
      "\n"
     ]
    }
   ],
   "source": [
    "spectral_registry_pos = load_from_mona('../MoNA_MS2/filtered_MoNA-export-LC-MS-MS_Positive_Mode.msp')\n",
    "spectral_registry_neg = load_from_mona('../MoNA_MS2/filtered_MoNA-export-LC-MS-MS_Negative_Mode.msp')"
   ]
  },
  {
   "cell_type": "code",
   "execution_count": 38,
   "metadata": {},
   "outputs": [
    {
     "name": "stdout",
     "output_type": "stream",
     "text": [
      "13670 spectra are found with precursors.\n",
      "9074 spectra are found with precursors.\n"
     ]
    }
   ],
   "source": [
    "# ms2List is usable MoNA MS/MS compounds\n",
    "ms2List_pos, no_precursor_pos = [], []\n",
    "for sp in spectral_registry_pos.values(): \n",
    "    try:\n",
    "        ms2List_pos.append(extract_ms2_spectrum(sp[0])) \n",
    "    except KeyError:\n",
    "        no_precursor_pos.append(sp[0])\n",
    "        \n",
    "print(f'{len(ms2List_pos)} spectra are found with precursors.')\n",
    "\n",
    "ms2List_neg, no_precursor_neg = [], []\n",
    "for sp in spectral_registry_neg.values(): \n",
    "    try:\n",
    "        ms2List_neg.append(extract_ms2_spectrum(sp[0])) \n",
    "    except KeyError:\n",
    "        no_precursor_neg.append(sp[0])\n",
    "        \n",
    "print(f'{len(ms2List_neg)} spectra are found with precursors.')"
   ]
  },
  {
   "cell_type": "code",
   "execution_count": 39,
   "metadata": {},
   "outputs": [],
   "source": [
    "ms2_tree_pos = build_centurion_tree([{'mz': x[0], 'rtime': 0, 'name': x[1], 'peaks': x[2]} for x in ms2List_pos])\n",
    "ms2_tree_neg = build_centurion_tree([{'mz': x[0], 'rtime': 0, 'name': x[1], 'peaks': x[2]} for x in ms2List_neg])"
   ]
  },
  {
   "cell_type": "markdown",
   "metadata": {},
   "source": [
    "## Runinng Batches"
   ]
  },
  {
   "cell_type": "markdown",
   "metadata": {},
   "source": [
    "### Preparation"
   ]
  },
  {
   "cell_type": "code",
   "execution_count": null,
   "metadata": {},
   "outputs": [],
   "source": [
    "tof_datasets = [x.rstrip() for x in open('selected_16_tof_datasets.txt').readlines()]\n",
    "pos_tof_datasets = [x for x in tof_datasets if 'pos' in x]\n",
    "neg_tof_datasets = [x for x in tof_datasets if 'neg' in x]"
   ]
  },
  {
   "cell_type": "code",
   "execution_count": null,
   "metadata": {},
   "outputs": [],
   "source": [
    "dict_rtwindow = {}\n",
    "for line in open('elution_parameters_16studies_tof.tsv').readlines()[1:]:\n",
    "    a = line.rstrip().split('\\t')\n",
    "    dict_rtwindow[a[0]] = float(a[5])"
   ]
  },
  {
   "cell_type": "markdown",
   "metadata": {},
   "source": [
    "### Positive"
   ]
  },
  {
   "cell_type": "code",
   "execution_count": 2,
   "metadata": {},
   "outputs": [
    {
     "data": {
      "text/plain": [
       "(14,\n",
       " (28.0312,\n",
       "  '28.0312\\t550\\t28.0312\\t[\\'28.0313\\', \\'± C2H4, natural alkane chains such as fatty acids\\', \"{\\'C\\': 2, \\'H\\': 4}\"]'))"
      ]
     },
     "execution_count": 2,
     "metadata": {},
     "output_type": "execute_result"
    }
   ],
   "source": [
    "pos_candidate_fragments = '''18.01\t113\t18.010565\twater\t{'H': 2, 'O': 1}\n",
    "14.015\t83\t14.015649\taddition of acetic acid and loss of CO2. Reaction: (+C2H2O2) and (-CO2)\t{'C': 1, 'H': 2}\n",
    "2.015\t80\t2.014552\t2H\t{'H': 2}\n",
    "28.0305\t59\t28.0313\t± C2H4, natural alkane chains such as fatty acids\t{'C': 2, 'H': 4}\n",
    "46.0055\t54\t46.00548\t± CO+H2O (carboxylic acid)\t{'C': 1, 'O': 2, 'H': 2}\n",
    "17.0265\t53\t17.0265\taddition of ammonia. Reaction: (+NH3)\t{'N': 1, 'H': 3}\n",
    "11.9995\t45\t12.0\tmethylation and reduction\t{'C': 1}\n",
    "44.0255\t41\t44.0262\thydroxyethylation\t{'C': 2, 'H': 4, 'O': 1}\n",
    "26.015\t41\t26.01565\tacetylation and loss of oxygen. Reaction: (+C2H2O) and (-O)\t{'C': 2, 'H': 2}\n",
    "15.995\t40\t15.99492\t± O, e.g. oxidation/reduction\t{'O': 1}\n",
    "16.031\t39\t16.0313\tMethylation + reduction\t{'C': 1, 'H': 4}\n",
    "32.026\t37\t32.026215\tMeOH\t{'C': 1, 'H': 4, 'O': 1}\n",
    "39.993\t37\t39.9925\textra OH sodium adduct\t{'H': 1, 'O': 1}\n",
    "27.9945\t37\t27.9949\taddition of CO. Reaction: (+CO)\t{'C': 1, 'O': 1}\n",
    "23.999\t36\t24.0\tacetylation and loss of water. Reaction: (+C2H2O) and (-H2O)\t{'C': 2}\n",
    "42.0465\t35\t42.04695\t± C3H6, propylation\t{'C': 3, 'H': 6}\n",
    "9.984\t32\t9.98435\taddition of CO and loss of water. Reaction: (+CO) and (-H2O)\t{'C': 1, 'H': -2}\n",
    "30.0105\t31\t30.010564\taddition of acetic acid and loss of CO. Reaction: (+C2H2O2) and (-CO)\t{'C': 1, 'H': 2, 'O': 1}\n",
    "56.0625\t30\t56.0626\t± C4H8, butylation\t{'C': 4, 'H': 8}\n",
    "13.979\t30\t13.979264\tnitrification and loss of oxygen. Reaction: (NH2 -> NO2) and (-O)\t{'H': -2, 'O': 1}\n",
    "'''\n",
    "pos_candidate_fragments = [\n",
    "    (float(x.split()[0]), x) for x in pos_candidate_fragments.splitlines()\n",
    "]\n",
    "pos_isf_candidate_fragments = [x[0] for x in pos_candidate_fragments]\n",
    "len(pos_candidate_fragments), pos_candidate_fragments[3]"
   ]
  },
  {
   "cell_type": "code",
   "execution_count": null,
   "metadata": {},
   "outputs": [],
   "source": [
    "tally_pos = []\n",
    "for study in pos_tof_datasets:\n",
    "    list_khipus, all_assigned_fids, list_features = get_comprehensive_stats_per_dataset(\n",
    "        f'../input_data_tof/{study}/full_feature_table.tsv', \n",
    "        dict_rtwindow[study], \n",
    "        isp_pos,\n",
    "        asp_pos,\n",
    "        'pos')\n",
    "    \n",
    "    # sort to make sure we are getting in-source fragments\n",
    "    remaining_features = [f for f in list_features if f['id'] not in all_assigned_fids]\n",
    "        \n",
    "    list_khipus = sorted(list_khipus, key=lambda x: x['neutral_formula_mass'], reverse=True)\n",
    "    \n",
    "    # by isf_candidate_fragments\n",
    "    explained_khipu_ids, explained_feature_ids, delta_values_used = explain_a_dataset_by_mz_deltas(\n",
    "        list_khipus, remaining_features, pos_isf_candidate_fragments, \n",
    "        rt_stdev=dict_rtwindow[study]\n",
    "        )\n",
    "    \n",
    "    # # by MoNA MS2\n",
    "    have_precursors, matched2 = explain_a_dataset_byMS2(\n",
    "        list_features, ms2_tree_pos, rt_stdev=dict_rtwindow[study])\n",
    "    delta_values_ms2 = []\n",
    "    for x in matched2:\n",
    "        delta_values_ms2 += x[2]\n",
    "\n",
    "    tally_pos.append(\n",
    "        {\n",
    "            'study': study,\n",
    "            'num_khipus': len(list_khipus),\n",
    "            'num_features':  len(list_features),\n",
    "            'mzdelta_explained_khipus': len(set(explained_khipu_ids)), \n",
    "            'mzdelta_explained_features': len(set(explained_feature_ids)),\n",
    "            'freq_delta_values_used': delta_values_used,\n",
    "            'have_precursors': len(have_precursors),\n",
    "            'ms2_explained_features': len(matched2),\n",
    "            'delta_values_ms2': delta_values_ms2,\n",
    "        }\n",
    "    )"
   ]
  },
  {
   "cell_type": "code",
   "execution_count": 46,
   "metadata": {},
   "outputs": [],
   "source": [
    "with open('isfExplained_result_tally_pos.json', 'w', encoding='utf-8') as f:\n",
    "    json.dump(tally_pos, f,  ensure_ascii=False, indent=2) "
   ]
  },
  {
   "cell_type": "markdown",
   "metadata": {},
   "source": [
    "The above code is a bit slow runinng in jupyter notebook. Modified it to run_stats_by_batches_pos.py, and then assemble the result below."
   ]
  },
  {
   "cell_type": "code",
   "execution_count": 8,
   "metadata": {},
   "outputs": [
    {
     "name": "stdout",
     "output_type": "stream",
     "text": [
      "10\n"
     ]
    }
   ],
   "source": [
    "tally_pos = []\n",
    "for pos_res in os.listdir('output/tof/01292025/pos'):\n",
    "    tally_pos.append(json.load(open('output/tof/01292025/pos/' + pos_res, 'r')))\n",
    "print(len(tally_pos))\n",
    "with open('isfExplained_result_tally_pos_tof_01292025.json', 'w', encoding='utf-8') as f:\n",
    "    json.dump(tally_pos, f,  ensure_ascii=False, indent=2) "
   ]
  },
  {
   "cell_type": "markdown",
   "metadata": {},
   "source": [
    "### Negative"
   ]
  },
  {
   "cell_type": "code",
   "execution_count": 3,
   "metadata": {},
   "outputs": [
    {
     "data": {
      "text/plain": [
       "(13, (82.0029, \"82.0029\\t401\\t82.0029\\t['82.0030 C2HF3']\"))"
      ]
     },
     "execution_count": 3,
     "metadata": {},
     "output_type": "execute_result"
    }
   ],
   "source": [
    "# selected from top 20\n",
    "\n",
    "neg_candidate_fragments = '''67.9875\t140\t67.987424\tNaCOOH\t\"{'C': 1, 'O': 2, 'Na': 1, 'H': 1}\"\n",
    "2.015\t70\t2.014552\t2H\t{'H': 2}\n",
    "135.974\t49\t135.974848\t2X NaCOOH\t\"{'C': 2, 'O': 4, 'H': 2, 'Na': 2}\"\n",
    "82.002\t48\t82.003035\tmethylation and addition of trifluoromethyl. Reaction: (+CH2) and (+CF3-H)\t\"{'C': 2, 'H': 1, 'F': 3}\"\n",
    "1.011\t41\t1.007276467\t1H\t{'H':1 }\n",
    "0.996\t39\t0.996585\taddition of Guanine and loss of D-ribose. Reaction: (+C5H3N5) and (-C5H8O4)\t\"{'H': -5, 'N': 5, 'O': -4}\"\n",
    "43.989\t35\t43.9898\taddition of CO2. Reaction: (+CO2)\t\"{'C': 1, 'O': 2}\"\n",
    "14.015\t32\t14.015649\taddition of acetic acid and loss of CO2. Reaction: (+C2H2O2) and (-CO2)\t\"{'C': 1, 'H': 2}\"\n",
    "46.005\t31\t46.005305\taddition of Phosphate and dechlorination. Reaction: (+HPO3) and (-Cl+H)\t\"{'H': 2, 'O': 3, 'P': 1, 'Cl': -1}\"\n",
    "26.015\t29\t26.01565\tacetylation and loss of oxygen. Reaction: (+C2H2O) and (-O)\t\"{'C': 2, 'H': 2}\"\n",
    "61.97\t29\t61.975755\taddition of Phosphate and defluorination. Reaction: (+HPO3) and (-F+H)\t\"{'H': 2, 'O': 3, 'P': 1, 'F': -1}\"\n",
    "129.957\t29\t129.958482\taddition of di-phosphate and denitrification. Reaction: (+H2P2O6) and (NO2 -> NH2)\t\"{'H': 4, 'O': 4, 'P': 2}\"\n",
    "60.021\t29\t-60.0211\tdesmolysis\t\"{'C': -2, 'H': -4, 'O': -2}\"\n",
    "74.0365\t28\t74.03678\tpropionylation\t\"{'C': 3, 'H': 6, 'O': 2}\"\n",
    "23.9995\t27\t24\tacetylation and loss of water. Reaction: (+C2H2O) and (-H2O)\t{'C': 2}\n",
    "10.029\t27\t10.028802\taddition of CO2 and dechlorination. Reaction: (+CO2) and (-Cl+H)\t\"{'C': 1, 'H': 1, 'O': 2, 'Cl': -1}\"\n",
    "44.026\t26\t44.0262\thydroxyethylation\t\"{'C': 2, 'H': 4, 'O': 1}\"\n",
    "18.0105\t26\t18.010565\twater\t\"{'H': 2, 'O': 1}\"\n",
    "6.0165\t24\t6.010565\taddition of tiglyl and loss of phenyl. Reaction: (+C5H6O) and (-C6H5+H)\t\"{'C': -1, 'H': 2, 'O': 1}\"\n",
    "15.994\t23\t15.9949\toxidation\t{'O': 1}\n",
    "'''\n",
    "neg_candidate_fragments = [\n",
    "    (float(x.split()[0]), x) for x in neg_candidate_fragments.splitlines()\n",
    "]\n",
    "\n",
    "neg_isf_candidate_fragments = [x[0] for x in neg_candidate_fragments]\n",
    "len(neg_candidate_fragments), neg_candidate_fragments[3]"
   ]
  },
  {
   "cell_type": "code",
   "execution_count": null,
   "metadata": {},
   "outputs": [],
   "source": [
    "tally_neg = []\n",
    "for study in neg_tof_datasets:\n",
    "    list_khipus, all_assigned_fids, list_features = get_comprehensive_stats_per_dataset(\n",
    "        f'../input_data_tof/{study}/full_feature_table.tsv', \n",
    "        dict_rtwindow[study], \n",
    "        isp_neg,\n",
    "        asp_neg,\n",
    "        'neg')\n",
    "    \n",
    "    # sort to make sure we are getting in-source fragments\n",
    "    remaining_features = [f for f in list_features if f['id'] not in all_assigned_fids]\n",
    "\n",
    "    list_khipus = sorted(list_khipus, key=lambda x: x['neutral_formula_mass'], reverse=True)\n",
    "    \n",
    "    # by isf_candidate_fragments\n",
    "    explained_khipu_ids, explained_feature_ids, delta_values_used = explain_a_dataset_by_mz_deltas(\n",
    "        list_khipus, remaining_features, neg_isf_candidate_fragments, \n",
    "        rt_stdev=dict_rtwindow[study]\n",
    "        )\n",
    "    \n",
    "    # # by MoNA MS2\n",
    "    have_precursors, matched2 = explain_a_dataset_byMS2(\n",
    "        list_features, ms2_tree_neg, rt_stdev=dict_rtwindow[study])\n",
    "    delta_values_ms2 = []\n",
    "    for x in matched2:\n",
    "        delta_values_ms2 += x[2]\n",
    "\n",
    "    tally_neg.append(\n",
    "        {\n",
    "            'study': study,\n",
    "            'num_khipus': len(list_khipus),\n",
    "            'num_features':  len(list_features),\n",
    "            'mzdelta_explained_khipus': len(set(explained_khipu_ids)), \n",
    "            'mzdelta_explained_features': len(set(explained_feature_ids)),\n",
    "            'freq_delta_values_used': delta_values_used,\n",
    "            'have_precursors': len(have_precursors),\n",
    "            'ms2_explained_features': len(matched2),\n",
    "            'delta_values_ms2': delta_values_ms2,\n",
    "        }\n",
    "    )"
   ]
  },
  {
   "cell_type": "code",
   "execution_count": 64,
   "metadata": {},
   "outputs": [],
   "source": [
    "with open('isfExplained_result_tally_neg.json', 'w', encoding='utf-8') as f:\n",
    "    json.dump(tally_neg, f,  ensure_ascii=False, indent=2) "
   ]
  },
  {
   "cell_type": "markdown",
   "metadata": {},
   "source": [
    "The above code is a bit slow runinng in jupyter notebook. Modified it to run_stats_by_batches_neg.py, and then assemble the result below."
   ]
  },
  {
   "cell_type": "code",
   "execution_count": 9,
   "metadata": {},
   "outputs": [
    {
     "name": "stdout",
     "output_type": "stream",
     "text": [
      "6\n"
     ]
    }
   ],
   "source": [
    "tally_neg = []\n",
    "for neg_res in os.listdir('output/tof/01292025/neg'):\n",
    "    tally_neg.append(json.load(open('output/tof/01292025/neg/' + neg_res, 'r')))\n",
    "print(len(tally_neg))\n",
    "with open('isfExplained_result_tally_neg_tof_01292025.json', 'w', encoding='utf-8') as f:\n",
    "    json.dump(tally_neg, f,  ensure_ascii=False, indent=2) "
   ]
  },
  {
   "cell_type": "markdown",
   "metadata": {},
   "source": [
    "## Summary"
   ]
  },
  {
   "cell_type": "code",
   "execution_count": 4,
   "metadata": {},
   "outputs": [
    {
     "name": "stdout",
     "output_type": "stream",
     "text": [
      "ST002826_HILICpos__ppm25_1031121621 \n",
      " 4400 28 149\n",
      "MTBLS1133_RPpos_B2_ppm25_103113407 \n",
      " 48168 108 174\n",
      "ST000726_RPpos__ppm25_103113299 \n",
      " 37840 120 333\n",
      "ST001217_HILICpos__ppm25_103111503 \n",
      " 7489 27 70\n",
      "MTBLS718_RPpos_LPOS_B3_ppm25_1031121232 \n",
      " 20974 46 69\n",
      "ST002711_HILICpos_467535 Lipkin posHILIC 6530b_B7_ppm25_1031114314 \n",
      " 8015 41 84\n",
      "MTBLS718_HILICpos_HPOS_B1_ppm25_1031115857 \n",
      " 41783 210 407\n",
      "ST000046_HILICpos__ppm25_1031113822 \n",
      " 4173 19 82\n",
      "ST001828_RPpos_POS_ppm25_1031131529 \n",
      " 133502 1107 1209\n",
      "ST001217_RPpos__ppm25_1031115140 \n",
      " 52472 333 368\n",
      "ST002700_RPneg_466506 Lipkin negCSH 6550_B8_ppm25_103112379 \n",
      " 26092 231 336\n",
      "ST000046_RPneg__ppm25_1031114022 \n",
      " 2171 9 65\n",
      "ST002711_HILICneg_467535 Lipkin negHILIC 6550_B4_ppm25_1031115431 \n",
      " 20303 191 316\n",
      "MTBLS718_RPneg_LNEG_B2_ppm25_1031122629 \n",
      " 5751 47 154\n",
      "ST001828_RPneg_NEG_ppm25_1031133743 \n",
      " 84791 496 454\n",
      "ST000726_RPneg__ppm25_1031133359 \n",
      " 22350 92 119\n"
     ]
    }
   ],
   "source": [
    "for x in tally_pos + tally_neg:\n",
    "    print(x['study'], '\\n', x['num_features'], x['mzdelta_explained_features'], x['ms2_explained_features'])"
   ]
  }
 ],
 "metadata": {
  "kernelspec": {
   "display_name": "venv",
   "language": "python",
   "name": "python3"
  },
  "language_info": {
   "codemirror_mode": {
    "name": "ipython",
    "version": 3
   },
   "file_extension": ".py",
   "mimetype": "text/x-python",
   "name": "python",
   "nbconvert_exporter": "python",
   "pygments_lexer": "ipython3",
   "version": "3.12.4"
  }
 },
 "nbformat": 4,
 "nbformat_minor": 2
}
