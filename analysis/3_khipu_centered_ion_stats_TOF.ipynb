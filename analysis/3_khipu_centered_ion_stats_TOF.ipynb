{
 "cells": [
  {
   "cell_type": "markdown",
   "metadata": {},
   "source": [
    "# Get stats on ions based on mz delta to khipu primary peaks\n",
    "\n",
    "For 45 Orbitrap datasets from the CSM project. Use delta to khipu primary peaks, no need for full pairwise (see Step 1).\n",
    "\n",
    "We take histogram counts per dataset, as KDE is not easy to automate on less dense data of varying quality. Peak detection is done on cumulative histogram.\n",
    "\n",
    "This produces most frequent mass delta values for pos and neg ionization on Orbitraps.\n",
    "\n",
    "SL 2024-11-19"
   ]
  },
  {
   "cell_type": "markdown",
   "metadata": {},
   "source": [
    "## Imports"
   ]
  },
  {
   "cell_type": "code",
   "execution_count": 48,
   "metadata": {},
   "outputs": [],
   "source": [
    "import numpy as np\n",
    "import matplotlib.pyplot as plt\n",
    "from scipy.signal import find_peaks \n",
    "from scipy.ndimage import uniform_filter1d\n",
    "import statsmodels.api as sm\n",
    "from mining import * "
   ]
  },
  {
   "cell_type": "markdown",
   "metadata": {},
   "source": [
    "## Loads necessary information"
   ]
  },
  {
   "cell_type": "code",
   "execution_count": null,
   "metadata": {},
   "outputs": [
    {
     "name": "stdout",
     "output_type": "stream",
     "text": [
      "Downloaded file to: /Users/chiy/Projects/computational/in_source_fragments_serum/analysis/input_data_tof.zip\n",
      "Extracted files to: /Users/chiy/Projects/computational/in_source_fragments_serum/analysis\n",
      "Deleted downloaded file: /Users/chiy/Projects/computational/in_source_fragments_serum/analysis/input_data_tof.zip\n"
     ]
    }
   ],
   "source": [
    "import requests, zipfile, os\n",
    "download_path = 'input_data_tof.zip'\n",
    "extract_path = '.'\n",
    "\n",
    "# download take 20sec-2min. \n",
    "# URL need to generate every 7 days.\n",
    "try:\n",
    "    with requests.get('https://storage.googleapis.com/share-for-projects/input_data_tof.zip?Expires=1734584161&GoogleAccessId=cloud-storage-bucket-accessor%40azimuth-stage.iam.gserviceaccount.com&Signature=FTQynDlVES76zzixvzsFHBhmGd5snFzYlX7%2FJFPCY5YDxNToWVYqvgnEGfI3Y7mrTFekXu4Rz2ePdBgfQ2v6aaDf%2B605vfbhiOCIC%2FuO99iL%2FOVWM6%2FHZQt23l4GjXBSjhCm7RhFSVbE3Bd8%2F7yrpC7tAF0XMGF4fmb7WZN4GXmsyqUhvlt4l6GqA77nuaBiTOBFTJmSZNPsy2zWbWFa1XrHamaDyjyEjnDLYheuOpHTZNs2HTX2SZsMYIClE%2BIBeuLoNf1PctboneCdlXEAa%2FCG0OMNp53ztc2xkbWOefxMhUZobSJj19oRHcP0i%2BUZ8uGDLdgxk5qQwGtSNgtzAg%3D%3D', stream=True) as response:\n",
    "        response.raise_for_status()\n",
    "\n",
    "        with open(download_path, 'wb') as file:\n",
    "                for chunk in response.iter_content(chunk_size=8192):\n",
    "                    file.write(chunk)\n",
    "    print(f\"Downloaded file to: {os.path.abspath(download_path)}\")\n",
    "\n",
    "    with zipfile.ZipFile(download_path, 'r') as z:\n",
    "            z.extractall(path=extract_path)\n",
    "            print(f\"Extracted files to: {os.path.abspath(extract_path)}\")\n",
    "\n",
    "except requests.exceptions.RequestException as e:\n",
    "    print(f\"Error during download: {e}\")\n",
    "except zipfile.BadZipFile:\n",
    "    print(\"The file is not a valid zip file.\")\n",
    "except Exception as e:\n",
    "    print(f\"An unexpected error occurred: {e}\")\n",
    "finally:\n",
    "    if os.path.exists(download_path):\n",
    "        os.remove(download_path)\n",
    "        print(f\"Deleted downloaded file: {os.path.abspath(download_path)}\")\n"
   ]
  },
  {
   "cell_type": "code",
   "execution_count": 51,
   "metadata": {},
   "outputs": [],
   "source": [
    "tof_datasets = [x.rstrip() for x in open('selected_16_tof_datasets.txt').readlines()]"
   ]
  },
  {
   "cell_type": "code",
   "execution_count": 52,
   "metadata": {},
   "outputs": [],
   "source": [
    "def summarize_dataset(f):\n",
    "    '''called different functions to generate necessary information for following calculation\n",
    "    \n",
    "    f: the name of dataset. Ex, ST001237_HILICpos_B2_ppm5_3524314\n",
    "    \n",
    "    return: stdev of M1-M0 retention time shift, full list of features and list of good khipus\n",
    "    '''\n",
    "    \n",
    "    def path_constructor(f):\n",
    "        '''constructor to generate ion mode and paths for input files\n",
    "        \n",
    "        f: the name of dataset. Ex, ST001237_HILICpos_B2_ppm5_3524314\n",
    "        \n",
    "        returns: ion mode, path to empirical compounds json, full feature table and preferred feature table\n",
    "        '''\n",
    "        # specific for this analysis\n",
    "        ion_mode = 'pos' if 'pos' in f else 'neg'\n",
    "        json_path = f'input_data_tof/{f}/ecpds.json'\n",
    "        full_feature_table = f'input_data_tof/{f}/full_feature_table.tsv'\n",
    "        preferred_feature_table = f'input_data_tof/{f}/preferred_feature_table.tsv'\n",
    "        \n",
    "        return ion_mode, json_path, full_feature_table, preferred_feature_table\n",
    "\n",
    "    def get_isotope_elution_window(good_khipus):\n",
    "        '''good_khipus must have M0 as a good peak (snr>=5, shape>=0.9)\n",
    "        \n",
    "        good_khipus: a list of khipus\n",
    "\n",
    "        return: Mean and stdev of M0 peak width; mean and stdev of (M1-M0 retention time shift)\n",
    "        '''\n",
    "        M0wdiths, M1shifts = [], []\n",
    "        for epd in good_khipus:\n",
    "            M0, M1 = get_M0(epd['MS1_pseudo_Spectra']), get_M1(epd['MS1_pseudo_Spectra'])\n",
    "            M0wdiths.append(M0['right_base'] - M0['left_base'])\n",
    "            M1shifts.append(M1['rtime'] - M0['rtime'])\n",
    "            \n",
    "        mean_m0, stdev_m0 = np.mean(M0wdiths), np.std(M0wdiths)\n",
    "        mean_shift, stdev_shift = np.mean(M1shifts), np.std(M1shifts)\n",
    "\n",
    "        return mean_m0, stdev_m0, mean_shift, stdev_shift\n",
    "    \n",
    "    \n",
    "    ion_mode, json_path, full_Feature_table, _ = path_constructor(f)\n",
    "    _, _, epd_summary = epd2featurelist_from_file(json_path, mode=ion_mode)\n",
    "    _, _, _, stdev_shift = get_isotope_elution_window(epd_summary['good_khipus'])\n",
    "    _, featureList = read_features_from_asari_table(open(full_Feature_table).read())\n",
    "    return stdev_shift, featureList, epd_summary['good_khipus']\n",
    "    "
   ]
  },
  {
   "cell_type": "markdown",
   "metadata": {},
   "source": [
    "## Calculate Mass Deltas Across Datasets"
   ]
  },
  {
   "cell_type": "code",
   "execution_count": 53,
   "metadata": {},
   "outputs": [
    {
     "name": "stdout",
     "output_type": "stream",
     "text": [
      "table header looks like: \n",
      "   ['id_number', 'mz', 'rtime', 'rtime_left_base', 'rtime_right_base', 'parent_masstrack_id', 'peak_area', 'cSelectivity', 'goodness_fitting', 'snr', 'detection_counts', '20180810-EX00864-A003-IN0026-MB-CS0000007-2-N', '20180810-EX00864-A003-IN0026-MB-CS0000007-1-N', '20180810-EX00864-A003-IN0026-MB-CS0000007-3-N', '20180810-EX00864-A003-IN0026-N1-CS0000091-1-N', '20180810-EX00864-A003-IN0026-N1-CS0000091-2-N', '20180810-EX00864-A003-IN0026-N1-CS0000091-3-N', '20180810-EX00864-A003-IN0026-N1-CS0000091-4-N', '20180810-EX00864-A003-IN0026-N1-CS0000091-5-N', '20180810-EX00864-A003-IN0026-N1-CS0000091-6-N']\n",
      "Read 84791 feature lines\n",
      "table header looks like: \n",
      "   ['id_number', 'mz', 'rtime', 'rtime_left_base', 'rtime_right_base', 'parent_masstrack_id', 'peak_area', 'cSelectivity', 'goodness_fitting', 'snr', 'detection_counts', '06jun12_60-r001', '04jun12_13-r001', '04jun12_13-r002', '04jun12_13-r003', '04jun12_13-r004', '04jun12_13-r005', '04jun12_13-r006', '04jun12_13-r007', '04jun12_13-r008']\n",
      "Read 4173 feature lines\n",
      "table header looks like: \n",
      "   ['id_number', 'mz', 'rtime', 'rtime_left_base', 'rtime_right_base', 'parent_masstrack_id', 'peak_area', 'cSelectivity', 'goodness_fitting', 'snr', 'detection_counts', '20170220-EX00702-A003-IN0016-S00028082-N', '20170220-EX00702-A003-IN0016-N0-CS0000009-1-N', '20170220-EX00702-A003-IN0016-N0-CS0000009-10-N', '20170220-EX00702-A003-IN0016-N0-CS0000009-11-N', '20170220-EX00702-A003-IN0016-N0-CS0000009-12-N', '20170220-EX00702-A003-IN0016-N0-CS0000009-13-N', '20170220-EX00702-A003-IN0016-N0-CS0000009-2-N', '20170220-EX00702-A003-IN0016-N0-CS0000009-3-N', '20170220-EX00702-A003-IN0016-N0-CS0000009-4-N']\n",
      "Read 22350 feature lines\n",
      "table header looks like: \n",
      "   ['id_number', 'mz', 'rtime', 'rtime_left_base', 'rtime_right_base', 'parent_masstrack_id', 'peak_area', 'cSelectivity', 'goodness_fitting', 'snr', 'detection_counts', '20jun12_49-r001', '20jun12_13-r001', '20jun12_13-r002', '20jun12_13-r003', '20jun12_13-r004', '20jun12_13-r005', '20jun12_13-r006', '20jun12_13-r007', '20jun12_13-r008']\n",
      "Read 2171 feature lines\n",
      "table header looks like: \n",
      "   ['id_number', 'mz', 'rtime', 'rtime_left_base', 'rtime_right_base', 'parent_masstrack_id', 'peak_area', 'cSelectivity', 'goodness_fitting', 'snr', 'detection_counts', 'Pool086_MX467535_negHILIC_postLipkin0860', 'Biorec022_MX467535_negHILIC_postLipkin0210', 'Biorec041_MX467535_negHILIC_postLipkin0400', 'Biorec058_MX467535_negHILIC_postLipkin0580', 'Biorec065_MX467535_negHILIC_postLipkin0650', 'Biorec066_MX467535_negHILIC_postLipkin0660', 'Biorec086_MX467535_negHILIC_postLipkin0860', 'Lipkin1008_MX467535_negHILIC_MMG-391_ABC-1905_1008', 'Lipkin220_MX467535_negHILIC_CB-22_ABC-16955_220']\n",
      "Read 20303 feature lines\n",
      "table header looks like: \n",
      "   ['id_number', 'mz', 'rtime', 'rtime_left_base', 'rtime_right_base', 'parent_masstrack_id', 'peak_area', 'cSelectivity', 'goodness_fitting', 'snr', 'detection_counts', 'Lipkin544_MX467535_posHILIC_CB-346_ABC-8650_544', 'Biorec021_MX467535_posHILIC_postLipkin0200', 'Biorec031_MX467535_posHILIC_postLipkin0300', 'Biorec051_MX467535_posHILIC_postLipkin0500', 'Biorec055_MX467535_posHILIC_postLipkin0550', 'Biorec065_MX467535_posHILIC_postLipkin0650', 'Biorec071_MX467535_posHILIC_postLipkin0710', 'Biorec073_MX467535_posHILIC_postLipkin0730', 'Biorec077_MX467535_posHILIC_postLipkin0770']\n",
      "Read 8015 feature lines\n",
      "table header looks like: \n",
      "   ['id_number', 'mz', 'rtime', 'rtime_left_base', 'rtime_right_base', 'parent_masstrack_id', 'peak_area', 'cSelectivity', 'goodness_fitting', 'snr', 'detection_counts', '20170220-EX00702-A003-IN0016-P0-CS0000009-1-P', '20170220-EX00702-A003-IN0016-P0-CS0000009-10-P', '20170220-EX00702-A003-IN0016-P0-CS0000009-11-P', '20170220-EX00702-A003-IN0016-P0-CS0000009-12-P', '20170220-EX00702-A003-IN0016-P0-CS0000009-13-P', '20170220-EX00702-A003-IN0016-P0-CS0000009-2-P', '20170220-EX00702-A003-IN0016-P0-CS0000009-3-P', '20170220-EX00702-A003-IN0016-P0-CS0000009-4-P', '20170220-EX00702-A003-IN0016-P0-CS0000009-5-P']\n",
      "Read 37840 feature lines\n",
      "table header looks like: \n",
      "   ['id_number', 'mz', 'rtime', 'rtime_left_base', 'rtime_right_base', 'parent_masstrack_id', 'peak_area', 'cSelectivity', 'goodness_fitting', 'snr', 'detection_counts', 'GramCov_LPOS_ToF05_B1SRD90', 'GramCov_LPOS_ToF05_B1SRD13', 'GramCov_LPOS_ToF05_B1SRD14', 'GramCov_LPOS_ToF05_B1SRD15', 'GramCov_LPOS_ToF05_B1SRD18', 'GramCov_LPOS_ToF05_B1SRD25', 'GramCov_LPOS_ToF05_B1SRD27', 'GramCov_LPOS_ToF05_B1SRD31', 'GramCov_LPOS_ToF05_B1SRD32']\n",
      "Read 20974 feature lines\n",
      "table header looks like: \n",
      "   ['id_number', 'mz', 'rtime', 'rtime_left_base', 'rtime_right_base', 'parent_masstrack_id', 'peak_area', 'cSelectivity', 'goodness_fitting', 'snr', 'detection_counts', 'Lipkin648_Plasma_MX466506_negCSH_ABC-17969-648', 'Biorec028_Plasma_MX466506_negCSH_postLipkin270', 'Biorec042_Plasma_MX466506_negCSH_postLipkin410', 'Biorec051_Plasma_MX466506_negCSH_postLipkin500', 'Biorec065_Plasma_MX466506_negCSH_postLipkin640', 'Biorec072_Plasma_MX466506_negCSH_postLipkin710', 'Lipkin215_Plasma_MX466506_negCSH_ABC-17417-215', 'Lipkin221_Plasma_MX466506_negCSH_ABC-18908-221', 'Lipkin222_Plasma_MX466506_negCSH_ABC-4103-222']\n",
      "Read 26092 feature lines\n",
      "table header looks like: \n",
      "   ['id_number', 'mz', 'rtime', 'rtime_left_base', 'rtime_right_base', 'parent_masstrack_id', 'peak_area', 'cSelectivity', 'goodness_fitting', 'snr', 'detection_counts', '20180810-EX00864-A003-IN0026-R98-R00000098-2-P', '20180810-EX00864-A003-IN0026-MB-CS0000007-1-P', '20180810-EX00864-A003-IN0026-MB-CS0000007-2-P', '20180810-EX00864-A003-IN0026-MB-CS0000007-3-P', '20180810-EX00864-A003-IN0026-P1-CS0000091-1-P', '20180810-EX00864-A003-IN0026-P1-CS0000091-2-P', '20180810-EX00864-A003-IN0026-P1-CS0000091-3-P', '20180810-EX00864-A003-IN0026-P1-CS0000091-4-P', '20180810-EX00864-A003-IN0026-P1-CS0000091-5-P']\n",
      "Read 133502 feature lines\n",
      "table header looks like: \n",
      "   ['id_number', 'mz', 'rtime', 'rtime_left_base', 'rtime_right_base', 'parent_masstrack_id', 'peak_area', 'cSelectivity', 'goodness_fitting', 'snr', 'detection_counts', 'Plasma_96_C18_Pos', 'Plasma_01_C18_Pos', 'Plasma_02_C18_Pos', 'Plasma_03_C18_Pos', 'Plasma_04_C18_Pos', 'Plasma_05_C18_Pos', 'Plasma_06_C18_Pos', 'Plasma_07_C18_Pos', 'Plasma_08_C18_Pos']\n",
      "Read 52472 feature lines\n",
      "table header looks like: \n",
      "   ['id_number', 'mz', 'rtime', 'rtime_left_base', 'rtime_right_base', 'parent_masstrack_id', 'peak_area', 'cSelectivity', 'goodness_fitting', 'snr', 'detection_counts', 'GramCov_HPOS_ToF08_B1SRD41', 'GramCov_HPOS_ToF08_B1SRD02', 'GramCov_HPOS_ToF08_B1SRD03', 'GramCov_HPOS_ToF08_B1SRD04', 'GramCov_HPOS_ToF08_B1SRD05', 'GramCov_HPOS_ToF08_B1SRD10', 'GramCov_HPOS_ToF08_B1SRD11', 'GramCov_HPOS_ToF08_B1SRD13', 'GramCov_HPOS_ToF08_B1SRD25']\n",
      "Read 41783 feature lines\n",
      "table header looks like: \n",
      "   ['id_number', 'mz', 'rtime', 'rtime_left_base', 'rtime_right_base', 'parent_masstrack_id', 'peak_area', 'cSelectivity', 'goodness_fitting', 'snr', 'detection_counts', 'Plasma_096_HILIC_Pos', 'Plasma_001_HILIC_Pos', 'Plasma_002_HILIC_Pos', 'Plasma_003_HILIC_Pos', 'Plasma_004_HILIC_Pos', 'Plasma_005_HILIC_Pos_b5', 'Plasma_006_HILIC_Pos', 'Plasma_007_HILIC_Pos', 'Plasma_008_HILIC_Pos']\n",
      "Read 7489 feature lines\n",
      "table header looks like: \n",
      "   ['id_number', 'mz', 'rtime', 'rtime_left_base', 'rtime_right_base', 'parent_masstrack_id', 'peak_area', 'cSelectivity', 'goodness_fitting', 'snr', 'detection_counts', 'QC4_b1_pos', 'P100_b2_pos', 'P102_b2_pos', 'P103_b2_pos', 'P105_b2_pos', 'P106_b2_pos', 'P108_b2_pos', 'P10_b1_pos', 'P10_b2_pos']\n",
      "Read 48168 feature lines\n",
      "table header looks like: \n",
      "   ['id_number', 'mz', 'rtime', 'rtime_left_base', 'rtime_right_base', 'parent_masstrack_id', 'peak_area', 'cSelectivity', 'goodness_fitting', 'snr', 'detection_counts', '190130MR_PET_Hilic_pos_010', '190130MR_PET_Hilic_pos_014', '190130MR_PET_Hilic_pos_015', '190130MR_PET_Hilic_pos_017', '190130MR_PET_Hilic_pos_018', '190130MR_PET_Hilic_pos_020', '190130MR_PET_Hilic_pos_021', '190130MR_PET_Hilic_pos_022', '190130MR_PET_Hilic_pos_023']\n",
      "Read 4400 feature lines\n",
      "table header looks like: \n",
      "   ['id_number', 'mz', 'rtime', 'rtime_left_base', 'rtime_right_base', 'parent_masstrack_id', 'peak_area', 'cSelectivity', 'goodness_fitting', 'snr', 'detection_counts', 'GramCov_LNEG_ToF06_B1SRD45', 'GramCov_LNEG_ToF06_B1SRD13', 'GramCov_LNEG_ToF06_B1SRD16', 'GramCov_LNEG_ToF06_B1SRD22', 'GramCov_LNEG_ToF06_B1SRD24', 'GramCov_LNEG_ToF06_B1SRD25', 'GramCov_LNEG_ToF06_B1SRD31', 'GramCov_LNEG_ToF06_B1SRD36', 'GramCov_LNEG_ToF06_B1SRD46']\n",
      "Read 5751 feature lines\n"
     ]
    }
   ],
   "source": [
    "def calculate_bin_deltas_fulldataset(good_khipus, stdev_shift, feature_list):\n",
    "    '''calculate all delta mz values in every rtime window\n",
    "    \n",
    "    good_khipus: a list of khipus(snr>=5, shape>=0.9)\n",
    "    stdev_shift: M1-M0 retention time shift\n",
    "    feature_list: full list of features in this dataset\n",
    "    \n",
    "    return: list of tuples containing khipu id and related list of delta mz values. \n",
    "        Ex, [('kp4_69.0587', [0.0,\n",
    "                5.033599999999993,\n",
    "                22.167199999999994,\n",
    "                11.455299999999994,\n",
    "                1.0032999999999959]),\n",
    "            ('kp5_69.0587', [0.0,\n",
    "                10.871099999999998,\n",
    "                1.0032999999999959])]\n",
    "    '''\n",
    "    mz_delta_list = []\n",
    "    for kp in good_khipus:\n",
    "        M0 = get_M0(kp['MS1_pseudo_Spectra']) # get the M0 khipu\n",
    "        features_in_rt_window = [f for f in feature_list if abs(f['rtime'] - M0['rtime']) <= stdev_shift] # get the list of features sitting in the stdev from M0 feature\n",
    "        \n",
    "        base = min([x['mz'] for x in kp['MS1_pseudo_Spectra']]) # the smallest mz value in this khipu\n",
    "        mz_delta_list.append((kp['interim_id'], [x['mz']-base for x in features_in_rt_window]))\n",
    "    return mz_delta_list\n",
    "\n",
    "\n",
    "collection_deltas = [] # the list of mz delta value list of each dataset\n",
    "for tof_dataset in tof_datasets:\n",
    "    stdev_shift, st, good_khipus = summarize_dataset(tof_dataset)\n",
    "    mz_delta_list = calculate_bin_deltas_fulldataset(good_khipus, stdev_shift, st)\n",
    "    collection_deltas.append(mz_delta_list)  "
   ]
  },
  {
   "cell_type": "markdown",
   "metadata": {},
   "source": [
    "## Calculate Histogram and KDE for Each Dataset\n",
    "The result will be under freq_mzdelta"
   ]
  },
  {
   "cell_type": "code",
   "execution_count": 54,
   "metadata": {},
   "outputs": [],
   "source": [
    "def get_histogram_per_dataset(list_kp_deltas, binsize=0.001):\n",
    "    list_deltas = []\n",
    "    for v in list_kp_deltas:\n",
    "        list_deltas += v[1]\n",
    "    list_deltas = np.array(list_deltas)\n",
    "    _min, _max = list_deltas.min(), list_deltas.max()\n",
    "    bins = np.arange(_min, _max, binsize)\n",
    "    hist = np.histogram(list_deltas, bins)\n",
    "    return hist\n",
    "\n",
    "def write_top_histo_bins(f, list_kp_deltas, binsize=0.001, outdir='freq_mzdelta_tof/', topN=500):\n",
    "    os.makedirs(outdir, exist_ok=True)\n",
    "    \n",
    "    h1, b2 = get_histogram_per_dataset(list_kp_deltas, binsize=binsize)\n",
    "    new = list(zip(h1, b2))\n",
    "    new.sort(reverse=True)\n",
    "    s = 'count\\tbin_left_edge\\n'\n",
    "    for x in new[:topN]:\n",
    "        s += str(x[0]) + '\\t' + str(round(x[1], 4)) + '\\n'\n",
    "    with open(outdir+'histo_'+f+'.tsv', 'w') as O:\n",
    "        O.write(s)\n",
    "        \n",
    "def get_kde_per_dataset(list_kp_deltas, bandwidth=0.001, threshold=0.001, topN=500):\n",
    "    '''\n",
    "    Testing. Not using in final results.\n",
    "    '''\n",
    "    list_deltas = []\n",
    "    for v in list_kp_deltas:\n",
    "        list_deltas += v[1]\n",
    "    kde = sm.nonparametric.KDEUnivariate(list_deltas)\n",
    "    kde.fit(bw=bandwidth) \n",
    "    max_intensity = kde.density.max()\n",
    "    threshold = min(threshold, threshold*max_intensity)\n",
    "    # prominence = 0.05 * max_intensity\n",
    "    peaks_density = get_kde_peaks(kde.support, kde.density, height=threshold, \n",
    "                                        # prominence=prominence,\n",
    "                                        )\n",
    "    peaks_density = sorted(peaks_density, key=lambda x: x[1], reverse=True)\n",
    "    return peaks_density[:topN]\n",
    "\n",
    "def write_top_kde_peaks(f, peaks_density, outdir='freq_mzdelta_tof/'):\n",
    "    os.makedirs(outdir, exist_ok=True)\n",
    "    \n",
    "    # peaks_density : [(mz, density), ...]\n",
    "    s = 'mz_peak\\tKDE_density\\n'\n",
    "    for x in peaks_density:\n",
    "        s += str(round(x[0], 4)) + '\\t' + str(round(x[1], 4)) + '\\n'\n",
    "    with open(outdir+'kde_'+f+'.tsv', 'w') as O:\n",
    "        O.write(s)\n",
    "\n",
    "def get_kde_peaks(x_kde_support, y_kde_density, \n",
    "                  height=0.01,\n",
    "                  distance=2,\n",
    "                  # prominence=0.5,\n",
    "                  width=2,\n",
    "                  wlen=50,\n",
    "                  ):\n",
    "    # prominence is not used as height is sufficient after smoothing first\n",
    "    y_kde_density = uniform_filter1d(y_kde_density, 5, mode='nearest')\n",
    "    peaks, properties = find_peaks(y_kde_density, \n",
    "                                    height=height, \n",
    "                                    distance=distance,\n",
    "                                    # prominence=prominence,\n",
    "                                    width=width, \n",
    "                                    wlen=wlen,\n",
    "                                    ) \n",
    "    real_apexes = [x_kde_support[ii] for ii in peaks]\n",
    "    return list(zip(real_apexes, properties['peak_heights']))\n"
   ]
  },
  {
   "cell_type": "code",
   "execution_count": 55,
   "metadata": {},
   "outputs": [],
   "source": [
    "for tof_dataset, deltas_per_dataset in zip(tof_datasets, collection_deltas): \n",
    "    # do histogram\n",
    "    write_top_histo_bins(tof_dataset, deltas_per_dataset)    \n",
    "    \n",
    "    # do KDE\n",
    "    peaks_density = get_kde_per_dataset(deltas_per_dataset, bandwidth=0.0005, threshold=0.001, topN=500)\n",
    "    write_top_kde_peaks(tof_dataset, peaks_density)"
   ]
  },
  {
   "cell_type": "markdown",
   "metadata": {},
   "source": [
    "**Note**\n",
    "\n",
    "Tricky to optimize KDE peak finding parameters for noisier data. When overall density is low, peak shapes are not clear.\n",
    "\n",
    "Histogram is robust to use here."
   ]
  },
  {
   "cell_type": "markdown",
   "metadata": {},
   "source": [
    "## Get Cumulative Histogram and KDE across Datasets"
   ]
  },
  {
   "cell_type": "code",
   "execution_count": 56,
   "metadata": {},
   "outputs": [],
   "source": [
    "def get_histogram_fixed_bins(list_kp_deltas, fixed_bins):\n",
    "    '''Returns histogram on fixed bins using abs values\n",
    "    \n",
    "    list_kp_deltas: list of tuples containing khipu id and related list of delta mz values. \n",
    "        Ex, [('kp4_69.0587', [0.0,\n",
    "                5.033599999999993,\n",
    "                22.167199999999994,\n",
    "                11.455299999999994,\n",
    "                1.0032999999999959]),\n",
    "            ('kp5_69.0587', [0.0,\n",
    "                10.871099999999998,\n",
    "                1.0032999999999959])]\n",
    "    fixed_bins: an 1D numpy array of evenly spaced floating-point numbers. Ex. np.arange(0.1, 310, 0.0001)\n",
    "    \n",
    "    return: 1D numpy array representing counts of all deltas in current dataset in each bin given by fixed_bins. Ex. array([22.,  6., 14., ...,  7.,  5.,  4.], shape=(3098999,))\n",
    "    '''\n",
    "    list_deltas = []\n",
    "    for v in list_kp_deltas:\n",
    "        list_deltas += v[1]\n",
    "    list_deltas = abs(np.array(list_deltas))\n",
    "    return np.histogram(list_deltas, fixed_bins)[0]"
   ]
  },
  {
   "cell_type": "code",
   "execution_count": 57,
   "metadata": {},
   "outputs": [],
   "source": [
    "fixed_bins = np.arange(0.1, 310, 0.0001)\n",
    "cummulative_histo = np.zeros(len(fixed_bins)-1)\n",
    "\n",
    "for d in collection_deltas:\n",
    "    cummulative_histo += get_histogram_fixed_bins(d, fixed_bins)\n",
    "    \n",
    "cummulative_kde = get_kde_peaks(fixed_bins[:-1], cummulative_histo, height=10)\n",
    "cummulative_kde = sorted(cummulative_kde, key=lambda x: x[1], reverse=True)"
   ]
  },
  {
   "cell_type": "markdown",
   "metadata": {},
   "source": [
    "## Curate Mass Signatures"
   ]
  },
  {
   "cell_type": "code",
   "execution_count": 58,
   "metadata": {},
   "outputs": [],
   "source": [
    "from mass2chem.lib.common_mass import mass_signatures\n",
    "\n",
    "def search_mass_signatures(m, mass_signatures=mass_signatures):\n",
    "    '''find the closest mass signatures for the input mass value\n",
    "    \n",
    "    m: float. The input mass value\n",
    "    mass_signatures: list of tuples containing mass value, chem formula, single element dict of each mass signature. \n",
    "    \n",
    "    return: the closest signature and the deviation.\n",
    "        \n",
    "    example:\n",
    "    >>> search_mass_signatures(28.0312)\n",
    "    ((28.0313, '± C2H4, natural alkane chains such as fatty acids', {'C': 2, 'H': 4}), 0.00010000000000331966)\n",
    "    '''\n",
    "    _d = [abs(m-abs(x[0])) for x in mass_signatures]\n",
    "    _ii = np.argmin(_d)\n",
    "    if _d[_ii] < 0.005:\n",
    "        return mass_signatures[_ii], _d[_ii]\n",
    "    else:\n",
    "        return None\n",
    "    \n",
    "def write_delta_mzs(output_path, mz_delta_kdes, mass_signatures):\n",
    "    '''write the top frequent delta mzs into designated tsv file\n",
    "    \n",
    "    output_path: the path of top frequent delta mzs\n",
    "    mz_delta_kdes: list of tuples containing mz delta values and kdes. \n",
    "                    Ex,[(1.0033000000000258, 8393.8),\n",
    "                        (14.015500000000399, 1590.6),\n",
    "                        (2.015500000000055, 1285.8),\n",
    "                        (18.010500000000516, 1244.8)]\n",
    "    mass_signatures: list of tuples containing mass value, chem formula, single element dict of each mass signature. \n",
    "    '''\n",
    "    s = 'delta_mz\\tcount_estimate\\tmass_signature\\tnote\\tdict\\n'\n",
    "    for x in mz_delta_kdes:\n",
    "        _M = search_mass_signatures(x[0], mass_signatures)\n",
    "        if _M:\n",
    "            s += str(round(x[0], 4)) + '\\t' + str(int(x[1])) + '\\t' + '\\t'.join(\n",
    "                [str(round(x[0], 4)) if type(ii) == float else str(ii) for ii in _M[0] ]) + '\\n'\n",
    "        else:\n",
    "            s += str(round(x[0], 4)) + '\\t' + str(int(x[1])) + '\\n'\n",
    "            \n",
    "    with open(output_path, 'w') as O:\n",
    "        O.write(s)"
   ]
  },
  {
   "cell_type": "code",
   "execution_count": 59,
   "metadata": {},
   "outputs": [],
   "source": [
    "curated_msig = []\n",
    "for x in cummulative_kde:\n",
    "    _M = search_mass_signatures(x[0])\n",
    "    if _M:\n",
    "        curated_msig.append((float(x[0]), _M))\n",
    "        \n",
    "write_delta_mzs('top_frequent_delta_mz_tof_anno-20241211.tsv', cummulative_kde, curated_msig)"
   ]
  },
  {
   "cell_type": "code",
   "execution_count": 60,
   "metadata": {},
   "outputs": [
    {
     "data": {
      "text/plain": [
       "65"
      ]
     },
     "execution_count": 60,
     "metadata": {},
     "output_type": "execute_result"
    }
   ],
   "source": [
    "len(curated_msig)"
   ]
  },
  {
   "cell_type": "markdown",
   "metadata": {},
   "source": [
    "## Do pos and neg ions separately"
   ]
  },
  {
   "cell_type": "code",
   "execution_count": 61,
   "metadata": {},
   "outputs": [],
   "source": [
    "fixed_bins = np.arange(0.1, 500.01, 0.0001)\n",
    "cummulative_histo_pos = np.zeros(len(fixed_bins)-1)\n",
    "cummulative_histo_neg = np.zeros(len(fixed_bins)-1)\n",
    "\n",
    "for tof_dataset, deltas_per_dataset in zip(tof_datasets, collection_deltas): \n",
    "    if 'pos' in tof_dataset:\n",
    "        cummulative_histo_pos += get_histogram_fixed_bins(deltas_per_dataset, fixed_bins)\n",
    "    elif 'neg' in tof_dataset:\n",
    "        cummulative_histo_neg += get_histogram_fixed_bins(deltas_per_dataset, fixed_bins)\n",
    "    else:\n",
    "        print(\"Error, \", tof_dataset)"
   ]
  },
  {
   "cell_type": "code",
   "execution_count": 62,
   "metadata": {},
   "outputs": [],
   "source": [
    "# pos\n",
    "peaks_density_pos = get_kde_peaks(fixed_bins[:-1], cummulative_histo_pos, height=10)\n",
    "peaks_density_pos = sorted(peaks_density_pos, key=lambda x: x[1], reverse=True)\n",
    "\n",
    "write_delta_mzs('top_frequent_delta_mz_tof_pos-20241211.tsv', peaks_density_pos, mass_signatures)"
   ]
  },
  {
   "cell_type": "code",
   "execution_count": 63,
   "metadata": {},
   "outputs": [],
   "source": [
    "# neg\n",
    "peaks_density_neg = get_kde_peaks(fixed_bins[:-1], cummulative_histo_neg, height=10)\n",
    "peaks_density_neg = sorted(peaks_density_neg, key=lambda x: x[1], reverse=True)\n",
    "\n",
    "write_delta_mzs('top_frequent_delta_mz_tof_neg-20241211.tsv', peaks_density_neg, mass_signatures)"
   ]
  },
  {
   "cell_type": "markdown",
   "metadata": {},
   "source": [
    "## Conclusion\n",
    "\n",
    "We have calculated most frequent mz deltas in Orbitrap datasets.\n",
    "\n",
    "Rough annotation is drawn from mass2chem etc. \n",
    "\n",
    "Will reformat the tables and update with full annotation."
   ]
  }
 ],
 "metadata": {
  "kernelspec": {
   "display_name": "venv",
   "language": "python",
   "name": "python3"
  },
  "language_info": {
   "codemirror_mode": {
    "name": "ipython",
    "version": 3
   },
   "file_extension": ".py",
   "mimetype": "text/x-python",
   "name": "python",
   "nbconvert_exporter": "python",
   "pygments_lexer": "ipython3",
   "version": "3.12.4"
  }
 },
 "nbformat": 4,
 "nbformat_minor": 2
}
