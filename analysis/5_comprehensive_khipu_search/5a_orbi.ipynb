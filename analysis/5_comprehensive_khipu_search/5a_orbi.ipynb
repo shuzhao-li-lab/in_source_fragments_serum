{
 "cells": [
  {
   "cell_type": "markdown",
   "metadata": {},
   "source": [
    "# Explained features by intensity quartiles\n",
    "\n",
    "Get khipus using updated grid,\n",
    "Add new list of fragments\n",
    "- Collect features that are explained;\n",
    "- and numbers of unique empCpds\n",
    "\n",
    "Plot how they overlap by each incremental quartile of features.\n",
    "\n",
    "The candidate fragments are based on frequent delta m/zs. \n",
    "\n",
    "Not using those from MS2 as the freq lists here should be more inclusive.\n",
    "\n",
    "Will move the frequent lists and top ones into mass2chem and khipu packages."
   ]
  },
  {
   "cell_type": "code",
   "execution_count": 377,
   "metadata": {},
   "outputs": [],
   "source": [
    "import io\n",
    "import sys\n",
    "import json\n",
    "import tqdm\n",
    "import contextlib\n",
    "import numpy as np\n",
    "import matplotlib.pyplot as plt\n",
    "import seaborn as sns\n",
    "from khipu.extended import peaklist_to_khipu_list, export_empCpd_khipu_list\n",
    "sys.path.insert(0, '..')\n",
    "from mining import * \n",
    "from isf_helper import (extract_ms2_spectrum, \n",
    "                        get_comprehensive_stats_per_dataset, \n",
    "                        explain_a_dataset_by_mz_deltas, \n",
    "                        explain_a_dataset_byMS2)\n"
   ]
  },
  {
   "cell_type": "code",
   "execution_count": 378,
   "metadata": {},
   "outputs": [],
   "source": [
    "# Input data \n",
    "\n",
    "orbi_datasets = [x.rstrip() for x in open('selected_45_orbi_datasets.txt').readlines()]\n",
    "pos_orbi_datasets = [x for x in orbi_datasets if 'pos' in x]\n",
    "neg_orbi_datasets = [x for x in orbi_datasets if 'neg' in x]\n",
    "\n",
    "# dict_tablefiles = {}\n",
    "# for line in open('list_input_files.tsv').readlines():\n",
    "#     a = line.rstrip().split('\\t')\n",
    "#     dict_tablefiles[a[0]] = a[1]\n",
    "\n",
    "dict_rtwindow = {}\n",
    "for line in open('elution_parameters_45studies_orbi.tsv').readlines()[1:]:\n",
    "    a = line.rstrip().split('\\t')\n",
    "    dict_rtwindow[a[0]] = float(a[5])"
   ]
  },
  {
   "cell_type": "code",
   "execution_count": 379,
   "metadata": {},
   "outputs": [],
   "source": [
    "# pos ionization\n",
    "isotope_search_patterns_pos = [ (1.003355, '13C/12C', (0, 0.8)),\n",
    "                            (2.00671, '13C/12C*2', (0, 0.8)),\n",
    "                            (3.010065, '13C/12C*3', (0, 0.8)),\n",
    "                            # (3.9948, '44Ca/40Ca', (0, 0.1)), # 2%\n",
    "                            (1.9970, '37Cl/35Cl', (0.1, 0.8)), # 24.24%\n",
    "                            ]\n",
    "\n",
    "isotope_search_patterns_neg = [ (1.003355, '13C/12C', (0, 0.8)),\n",
    "                            (2.00671, '13C/12C*2', (0, 0.8)),\n",
    "                            (3.010065, '13C/12C*3', (0, 0.8)),\n",
    "                            (1.9970, '37Cl/35Cl', (0.1, 0.8)), # 24.24%\n",
    "                            (1.9958, '32S/34S', (0, 0.1)), # 4%\n",
    "                            ]\n",
    "\n",
    "adduct_search_patterns_pos = [  # initial patterns are relative to M+H+\n",
    "                            (21.98194, 'Na/H'),\n",
    "                            (41.026549, 'ACN'),     # Acetonitrile\n",
    "                            (67.987424, 'NaCOOH'),\n",
    "                            (37.955882, 'K/H'),\n",
    "                            (32.026215, 'CH3OH')\n",
    "                            ]\n",
    "adduct_search_patterns_neg = [  \n",
    "                            (21.98194, 'Na/H'), \n",
    "                            (67.987424, 'NaCOOH'),\n",
    "                            (82.0030, 'ACN*2'),\n",
    "                            # (1.99566, 'F <-> OH'), \n",
    "                            (41.026549, 'ACN'),\n",
    "                            (37.955882, 'K/H'),\n",
    "                            ]\n",
    "extended_adducts = [  # excluding neutral loss here; include as a step after khipu\n",
    "                            (1.0078, 'H'),\n",
    "                            (17.02655, 'NH3'),\n",
    "                            (18.0106, 'H2O'),      # easy to confuse with bio reactions\n",
    "                            (18.033823, 'NH4'),\n",
    "                            (27.01089904, 'HCN'),\n",
    "                            (27.99492, 'CO'),\n",
    "                            (32.026215, 'CH3OH'),\n",
    "                            (-35.037114, '-NH3-H2O'), # not incuded in candidates below\n",
    "                            (35.9767, 'HCl'),\n",
    "                            (37.94694, 'Ca/H2'),\n",
    "                            (43.96389, 'Na2/H2'),\n",
    "                            (46.00548, 'CO2H2'),\n",
    "                            (67.987424, 'NaCOOH'),\n",
    "                            (83.961361, 'KCOOH'),\n",
    "                            (97.96737927, 'H2SO4'),\n",
    "                            (97.97689507, 'H3PO4'),\n",
    "]\n",
    "\n",
    "pos_candidate_fragments = '''14.0155\t900\t14.015649\taddition of acetic acid and loss of CO2. Reaction: (+C2H2O2) and (-CO2)\t{'C': 1, 'H': 2}\n",
    "18.0104\t885\t18.010565\twater\t{'H': 2, 'O': 1}\n",
    "2.0155\t717\t2.01565\t± 2H, opening or forming of double bond\t{'H': 2}\n",
    "44.0261\t652\t44.0262\thydroxyethylation\t{'C': 2, 'H': 4, 'O': 1}\n",
    "28.0312\t621\t28.0313\t± C2H4, natural alkane chains such as fatty acids\t{'C': 2, 'H': 4}\n",
    "15.9948\t479\t15.9949\toxidation\t{'O': 1}\n",
    "17.0264\t451\t17.0265\taddition of ammonia. Reaction: (+NH3)\t{'N': 1, 'H': 3}\n",
    "26.0155\t440\t26.01565\tacetylation and loss of oxygen. Reaction: (+C2H2O) and (-O)\t{'C': 2, 'H': 2}\n",
    "27.9947\t433\t27.9949\taddition of CO. Reaction: (+CO)\t{'C': 1, 'O': 1}\n",
    "42.0104\t340\t42.010564\tmalonylation and loss of CO2. Reaction: (+C3H2O3) and (-CO2)\t{'C': 2, 'H': 2, 'O': 1}\n",
    "67.9872\t325\t67.987424\tNaCOOH\t{'C': 1, 'O': 2, 'Na': 1, 'H': 1}\n",
    "13.9791\t321\t13.979264\tnitrification and loss of oxygen. Reaction: (NH2 -> NO2) and (-O)\t{'H': -2, 'O': 1}\n",
    "23.9998\t317\t24.0\tacetylation and loss of water. Reaction: (+C2H2O) and (-H2O)\t{'C': 2}\n",
    "16.0312\t314\t16.0313\tMethylation + reduction\t{'C': 1, 'H': 4}\n",
    "42.0468\t314\t42.04695\t± C3H6, propylation\t{'C': 3, 'H': 6}\n",
    "46.0053\t313\t46.005305\tformic acid adduct\t{'C': 1, 'H': 2, 'O': 2}\n",
    "88.0522\t304\t88.052429\tbutanoic acid\t{'C': 4, 'H': 8, 'O': 2}\n",
    "30.0468\t267\t30.04695\taddition of C2H4 and hydrogenation. Reaction: (+C2H4) and (+H2)\t{'C': 2, 'H': 6}\n",
    "'''\n",
    "pos_candidate_fragments = [\n",
    "    (float(x.split()[0]), x) for x in pos_candidate_fragments.splitlines()\n",
    "]\n",
    "pos_isf_candidate_fragments = [x[0] for x in pos_candidate_fragments]"
   ]
  },
  {
   "cell_type": "code",
   "execution_count": 380,
   "metadata": {},
   "outputs": [],
   "source": [
    "def assign_intensity_quartile(list_features):\n",
    "    '''\n",
    "    example feature : {'id_number': 'F101',\n",
    "                'id': 'F101',\n",
    "                'mz': 113.8853,\n",
    "                'rtime': 261.81,\n",
    "                'apex': 261.81,\n",
    "                'left_base': 261.02,\n",
    "                'right_base': 263.65,\n",
    "                'parent_masstrack_id': '1034',\n",
    "                'peak_area': '433995',\n",
    "                'cSelectivity': '0.75',\n",
    "                'goodness_fitting': '0.98',\n",
    "                'snr': '3',\n",
    "                'detection_counts': '39',\n",
    "                'representative_intensity': '433995'}\n",
    "    returns dict {fid: quartile, ...}\n",
    "    '''\n",
    "    for f in list_features:\n",
    "        f['peak_area'] = float(f['peak_area'])\n",
    "    d = {}\n",
    "    intensities = np.array([f['peak_area'] for f in list_features])\n",
    "    x1, x2, x3 = np.quantile(intensities, 0.75\n",
    "                        ), np.quantile(intensities, 0.5\n",
    "                         ), np.quantile(intensities, 0.25)\n",
    "    \n",
    "    for f in list_features:\n",
    "        if f['peak_area'] > x1:\n",
    "            d[f['id']] = 1  # 1st quartile\n",
    "        elif x1 >= f['peak_area'] > x2:\n",
    "            d[f['id']] = 2\n",
    "        elif x2 >= f['peak_area'] > x3:\n",
    "            d[f['id']] = 3\n",
    "        else:\n",
    "            d[f['id']] = 4\n",
    "    return d"
   ]
  },
  {
   "cell_type": "code",
   "execution_count": 324,
   "metadata": {},
   "outputs": [
    {
     "name": "stderr",
     "output_type": "stream",
     "text": [
      "100%|██████████| 22/22 [46:53<00:00, 127.89s/it] \n"
     ]
    }
   ],
   "source": [
    "\n",
    "\n",
    "# Detailed explanation of features by khipus and frequent deltas\n",
    "# **Include feature intensity ranks**\n",
    "# ~ 50 minutes\n",
    "\n",
    "tally_pos = []\n",
    "quartile_matches_pos = {}\n",
    "for study in tqdm.tqdm(pos_orbi_datasets):\n",
    "    with contextlib.redirect_stdout(io.StringIO()):\n",
    "        ion_mode = 'pos'\n",
    "        _n, list_features = read_features_from_asari_table(\n",
    "            open(f'../input_data_orbi/{study}/full_feature_table.tsv').read()\n",
    "            )\n",
    "        for f in list_features:\n",
    "            f['representative_intensity'] = f['peak_area']\n",
    "        list_khipus, all_assigned_fids = peaklist_to_khipu_list(\n",
    "                                list_features, \n",
    "                                isotope_search_patterns=isotope_search_patterns_pos, \n",
    "                                adduct_search_patterns=adduct_search_patterns_pos,\n",
    "                                extended_adducts=extended_adducts, \n",
    "                                mz_tolerance_ppm=5,\n",
    "                                rt_tolerance=dict_rtwindow[study],\n",
    "                                mode=ion_mode,\n",
    "                                charges=[1, 2, 3],\n",
    "                                )\n",
    "    \n",
    "        # convert khipu instances to dicts\n",
    "        list_khipus = sorted(export_empCpd_khipu_list(list_khipus), \n",
    "                            key=lambda x: x['neutral_formula_mass'], reverse=True)\n",
    "        fids_in_khipus = set([f['id'] for kp in list_khipus for f in kp['MS1_pseudo_Spectra']])\n",
    "        remaining_features = [f for f in list_features if f['id'] not in fids_in_khipus]\n",
    "        \n",
    "        # by isf_candidate_fragments\n",
    "        explained_khipu_ids, explained_feature_ids, delta_values_used = explain_a_dataset_by_mz_deltas(\n",
    "            list_khipus, remaining_features, pos_isf_candidate_fragments, \n",
    "            rt_stdev=dict_rtwindow[study]\n",
    "            )\n",
    "\n",
    "        dict_intensity_quartile = assign_intensity_quartile(list_features)\n",
    "        preannotated_feature_ids = set(list(fids_in_khipus) + explained_feature_ids)\n",
    "        quartile_matches = [dict_intensity_quartile[x] for x in preannotated_feature_ids]\n",
    "\n",
    "        cur_tally = {\n",
    "                'study': study,\n",
    "                'num_khipus': len(list_khipus),\n",
    "                'num_features':  len(list_features),\n",
    "                'mzdelta_explained_khipus': len(set(explained_khipu_ids)), \n",
    "                'mzdelta_explained_features': len(set(explained_feature_ids)),\n",
    "                'quartile_matches': quartile_matches,\n",
    "            }\n",
    "        tally_pos.append(cur_tally)\n",
    "        \n",
    "        M0_ids = [f['id'] for kp in list_khipus for f in kp['MS1_pseudo_Spectra'] if f['isotope'] == 'M0']\n",
    "        isotope_ids = [f['id'] for kp in list_khipus for f in kp['MS1_pseudo_Spectra'] if f['isotope'] != 'M0']\n",
    "        fragment_ids = explained_feature_ids\n",
    "        singleton_ids = [f['id'] for f in remaining_features if f['id'] not in fragment_ids]\n",
    "        \n",
    "        quartile_matches_pos[study] = {\n",
    "            'M0': [dict_intensity_quartile[x] for x in M0_ids],\n",
    "            'isotope': [dict_intensity_quartile[x] for x in isotope_ids],\n",
    "            'fragment': [dict_intensity_quartile[x] for x in fragment_ids],\n",
    "            'singletons': [dict_intensity_quartile[x] for x in singleton_ids],\n",
    "        }\n",
    "        round_id = '01192025_1'\n",
    "        os.makedirs(f'output/{round_id}/pos/{study}', exist_ok=True)\n",
    "        json.dump(list_khipus, open(f'output/{round_id}/pos/{study}/ecpds.json', 'w'))\n",
    "        json.dump(cur_tally, open(f'output/{round_id}/pos/{study}/tally.json', 'w'))\n",
    "        json.dump(quartile_matches_pos[study], open(f'output/{round_id}/pos/{study}/quartile_matches.json', 'w'))"
   ]
  },
  {
   "cell_type": "code",
   "execution_count": 375,
   "metadata": {},
   "outputs": [
    {
     "data": {
      "text/plain": [
       "(57875, [9281, 4599, 1912, 915])"
      ]
     },
     "execution_count": 375,
     "metadata": {},
     "output_type": "execute_result"
    }
   ],
   "source": [
    "test0 = tally_pos[0]['quartile_matches']\n",
    "tally_pos[0]['num_features'], [\n",
    "    len([x for x in test0 if x ==1]), len([x for x in test0 if x ==2]), \n",
    "    len([x for x in test0 if x ==3]), len([x for x in test0 if x ==4]),\n",
    "]"
   ]
  },
  {
   "cell_type": "code",
   "execution_count": 369,
   "metadata": {},
   "outputs": [
    {
     "data": {
      "text/plain": [
       "{'M0': [34.766397550470394,\n",
       "  16.85053058206837,\n",
       "  10.360929536633607,\n",
       "  6.686374950774778],\n",
       " 'isotope': [21.103227749483718,\n",
       "  12.807638138871768,\n",
       "  7.407083672939805,\n",
       "  3.947300650257938],\n",
       " 'fragment': [3.060054530550875,\n",
       "  2.3724571909531447,\n",
       "  1.2712967786441682,\n",
       "  0.5979261350119359],\n",
       " 'singletons': [41.071467147916884,\n",
       "  67.96500116980518,\n",
       "  80.95978253734494,\n",
       "  88.77253167827251]}"
      ]
     },
     "execution_count": 369,
     "metadata": {},
     "output_type": "execute_result"
    }
   ],
   "source": [
    "# Get numbers of features explained by pre-annotation (= len(quartile_matches)), \n",
    "# and unique empCpds (= num_khipus - mzdelta_explained_khipus)\n",
    "# \n",
    "# fig3a\n",
    "preannotated_features = [len(x['quartile_matches']) for x in tally_pos]\n",
    "unique_empCpds = [x['num_khipus']-x['mzdelta_explained_khipus'] for x in tally_pos]\n",
    "\n",
    "#fig3b\n",
    "quartile_percs_pos_all_preannotated = [[], [], [], []]\n",
    "quartile_percs_pos = {'M0': [[], [], [], []], \n",
    "                      'isotope': [[], [], [], []], \n",
    "                      'fragment': [[], [], [], []], \n",
    "                      'singletons': [[], [], [], []], }\n",
    "for x in tally_pos:\n",
    "    list_q = x['quartile_matches']\n",
    "    quartile_size = x['num_features']/4\n",
    "    for type, q in quartile_matches_pos[x['study']].items():\n",
    "        for ii in range(4):\n",
    "            quartile_percs_pos[type][ii].append(100 * len([y for y in q if y==ii+1]) / quartile_size)\n",
    "            # Use all preannotated features for violin plot\n",
    "            quartile_percs_pos_all_preannotated[ii].append(100 * len([y for y in list_q if y==ii+1]) / quartile_size)\n",
    "\n",
    "median_perc_pos = {}\n",
    "for type, qpp in quartile_percs_pos.items():\n",
    "    median_perc_pos[type] = [np.mean(qpp[ii]) for ii in range(4)]\n",
    "median_perc_pos"
   ]
  },
  {
   "cell_type": "code",
   "execution_count": 376,
   "metadata": {},
   "outputs": [
    {
     "name": "stdout",
     "output_type": "stream",
     "text": [
      "17.16605815498679\n",
      "11.316312552888308\n",
      "1.8254336587900313\n",
      "69.69219563333488\n"
     ]
    }
   ],
   "source": [
    "# calculate overall explainable result across quartiles\n",
    "for type, qpp in quartile_percs_pos.items():\n",
    "    print(np.mean(qpp))"
   ]
  },
  {
   "cell_type": "code",
   "execution_count": 371,
   "metadata": {},
   "outputs": [
    {
     "name": "stdout",
     "output_type": "stream",
     "text": [
      "16542.5 5569.5\n"
     ]
    },
    {
     "data": {
      "image/png": "[encoded data removed]",
      "text/plain": [
       "<Figure size 270x450 with 1 Axes>"
      ]
     },
     "metadata": {},
     "output_type": "display_data"
    }
   ],
   "source": [
    "# Fig 3a. preannotated_features unique_empCpds\n",
    "_d = {\n",
    "    'Preannotated features': np.log10(preannotated_features),\n",
    "    'Unique empCpds': np.log10(unique_empCpds),\n",
    "}\n",
    "from matplotlib.ticker import FormatStrFormatter\n",
    "\n",
    "print(np.median(preannotated_features), np.median(unique_empCpds))\n",
    "\n",
    "colors = ['#32CD32', '#228B22']  # Forest Green, Lime Green\n",
    "\n",
    "fig, ax = plt.subplots(1, 1, figsize=(2.7, 4.5))\n",
    "boxplot = sns.boxplot(data=_d, width=0.5)\n",
    "for i, patch in enumerate(boxplot.patches):\n",
    "    hatch = \"\" if i % 2 == 0 else \"//\"  # Different hatches for alternating boxes\n",
    "    patch.set_hatch(hatch)\n",
    "    patch.set_edgecolor('black')  # Set border color\n",
    "    patch.set_facecolor('white')  # Remove fill color\n",
    "\n",
    "ax.tick_params(axis='x', rotation=315)\n",
    "ax.set_ylabel(\"log10(Number)\")\n",
    "ax.yaxis.set_major_formatter(FormatStrFormatter('%.1f'))  # Format y-axis with 2 decimal places\n",
    "ax.set_title(\"ESI+ studies\")\n",
    "plt.tight_layout()\n",
    "plt.savefig('Fig3a_preannotation_pos.pdf')"
   ]
  },
  {
   "cell_type": "code",
   "execution_count": 341,
   "metadata": {},
   "outputs": [
    {
     "data": {
      "image/png": "[encoded data removed]",
      "text/plain": [
       "<Figure size 500x800 with 8 Axes>"
      ]
     },
     "metadata": {},
     "output_type": "display_data"
    }
   ],
   "source": [
    "# Fig. 3b. distribution of perc; pie chart for median pec\n",
    "\n",
    "piedata = [(median_perc_pos['M0'][i], median_perc_pos['isotope'][i], \n",
    "            median_perc_pos['fragment'][i], median_perc_pos['singletons'][i]) for i in range(4)]\n",
    "\n",
    "colors = ['#1f77b4', '#ffcc00', '#d62728', '#b0b0b0']  # Blue, Yellow, Red, Grey\n",
    "\n",
    "fig, axs = plt.subplots(4, 2, figsize=(5, 8), gridspec_kw={'wspace': 0.05}) \n",
    "\n",
    "\n",
    "for ii in range(4):\n",
    "    parts = axs[ii, 0].violinplot(\n",
    "        quartile_percs_pos_all_preannotated[ii],\n",
    "        showmedians=True,\n",
    "        showextrema=True\n",
    "    )\n",
    "    axs[ii, 0].set_yticks([0, 50, 100])\n",
    "    axs[ii, 0].tick_params(axis='x', which='both', bottom=True, labelbottom=False)  # Hide tick labels but keep ticks\n",
    "    \n",
    "    # Adjust the width of the violin plot (axs[ii, 0])\n",
    "    pos = axs[ii, 0].get_position()  # Get current position of the violin plot\n",
    "    axs[ii, 0].set_position([pos.x0 + 0.05, pos.y0, pos.width * 0.5, pos.height])  # Make it 50% narrower\n",
    "\n",
    "\n",
    "    axs[ii, 1].pie(\n",
    "        piedata[ii], \n",
    "        colors=colors, \n",
    "        radius=0.8, \n",
    "        startangle=90, \n",
    "        counterclock=False,\n",
    "        # autopct='%1.1f%%'\n",
    "        )\n",
    "    # axs[ii].set_title(f\"{(ii)*25}% - {(ii + 1)*25}%\") \n",
    "    \n",
    "    pos_pie = axs[ii, 1].get_position()  # Get current position of the pie chart\n",
    "    axs[ii, 1].set_position([pos_pie.x0 - 0.14, pos_pie.y0, pos_pie.width, pos_pie.height])  \n",
    "    \n",
    "plt.tight_layout()\n",
    "plt.savefig(\"Fig3b_preannotation_pos_piecharts.pdf\")\n"
   ]
  },
  {
   "cell_type": "code",
   "execution_count": 338,
   "metadata": {},
   "outputs": [
    {
     "data": {
      "text/plain": [
       "[(37.06210753050438,\n",
       "  20.814581195658338,\n",
       "  2.6789543713505743,\n",
       "  35.99947528008117),\n",
       " (16.347573930691794,\n",
       "  13.415542603233373,\n",
       "  2.0767508481811108,\n",
       "  68.03177811843432),\n",
       " (9.961638333180684, 5.955653029078735, 1.0124748480666983, 82.4646113091219),\n",
       " (6.4351028538767165,\n",
       "  3.7194855918516767,\n",
       "  0.5612364158974114,\n",
       "  89.20718586507323)]"
      ]
     },
     "execution_count": 338,
     "metadata": {},
     "output_type": "execute_result"
    }
   ],
   "source": [
    "piedata"
   ]
  },
  {
   "cell_type": "markdown",
   "metadata": {},
   "source": [
    "## Do neg ion studies"
   ]
  },
  {
   "cell_type": "code",
   "execution_count": 327,
   "metadata": {},
   "outputs": [],
   "source": [
    "neg_candidate_fragments = '''67.9874\t819\t67.987424\tNaCOOH\t{'C': 1, 'O': 2, 'Na': 1, 'H': 1}\n",
    "14.0156\t693\t14.015649\taddition of acetic acid and loss of CO2. Reaction: (+C2H2O2) and (-CO2)\t{'C': 1, 'H': 2}\n",
    "2.0155\t570\t2.01565\t\"± 2H, opening or forming of double bond\"\t{'H': 2}\n",
    "82.0029\t431\t82.005479\tsuccinylation and loss of water. Reaction: (+C4H4O3) and (-H2O)\t{'C': 4, 'H': 2, 'O': 2}\n",
    "15.9948\t415\t15.9949\toxidation\t{'O': 1}\n",
    "43.9898\t394\t43.9898\taddition of CO2. Reaction: (+CO2)\t{'C': 1, 'O': 2}\n",
    "18.0105\t374\t18.010565\twater\t{'H': 2, 'O': 1}\n",
    "11.9999\t359\t12\tmethylation and reduction\t{'C': 1}\n",
    "30.0105\t352\t30.010564\taddition of acetic acid and loss of CO. Reaction: (+C2H2O2) and (-CO)\t{'C': 1, 'H': 2, 'O': 1}\n",
    "26.0156\t346\t26.01565\tacetylation and loss of oxygen. Reaction: (+C2H2O) and (-O)\t{'C': 2, 'H': 2}\n",
    "46.0054\t339\t46.005479\tformic acid adduct\t{'C': 1, 'H': 2, 'O': 2}\n",
    "28.0312\t327\t28.0313\t± C2H4, natural alkane chains such as fatty acids\t{'C': 2, 'H': 4}\n",
    "44.0261\t303\t44.0262\thydroxyethylation\t{'C': 2, 'H': 4, 'O': 1}\n",
    "27.9949\t297\t27.9949\taddition of CO. Reaction: (+CO)\t{'C': 1, 'O': 1}\n",
    "23.9999\t265\t24\tacetylation and loss of water. Reaction: (+C2H2O) and (-H2O)\t{'C': 2}\n",
    "13.9792\t256\t13.979264\tnitrification and loss of oxygen. Reaction: (NH2 -> NO2) and (-O)\t{'H': -2, 'O': 1}\n",
    "42.0105\t250\t42.010564\tmalonylation and loss of CO2. Reaction: (+C3H2O3) and (-CO2)\t{'C': 2, 'H': 2, 'O': 1}\n",
    "16.0312\t239\t16.0313\tMethylation + reduction\t{'C': 1, 'H': 4}\n",
    "60.021\t229\t-60.0211\tdesmolysis\t{'C': -2, 'H': -4, 'O': -2}\n",
    "135.9748\t222\t135.974848\t2X NaCOOH\t{'C': 2, 'O': 4, 'H': 2, 'Na': 2}\n",
    "'''\n",
    "neg_candidate_fragments = [\n",
    "    (float(x.split()[0]), x) for x in neg_candidate_fragments.splitlines()\n",
    "]\n",
    "\n",
    "isf_candidate_fragments_neg = [x[0] for x in neg_candidate_fragments]"
   ]
  },
  {
   "cell_type": "code",
   "execution_count": 328,
   "metadata": {},
   "outputs": [
    {
     "name": "stderr",
     "output_type": "stream",
     "text": [
      "100%|██████████| 23/23 [59:40<00:00, 155.68s/it]\n"
     ]
    }
   ],
   "source": [
    "\n",
    "\n",
    "# Detailed explanation of features by khipus and frequent deltas\n",
    "# **Include feature intensity ranks**\n",
    "# ~ 70 minutes\n",
    "\n",
    "tally_neg = []\n",
    "quartile_matches_neg = {}\n",
    "for study in tqdm.tqdm(neg_orbi_datasets):\n",
    "    with contextlib.redirect_stdout(io.StringIO()):\n",
    "        ion_mode = 'neg'\n",
    "        _n, list_features = read_features_from_asari_table(\n",
    "            open(f'../input_data_orbi/{study}/full_feature_table.tsv').read()\n",
    "            )\n",
    "        for f in list_features:\n",
    "            f['representative_intensity'] = f['peak_area']\n",
    "        list_khipus, all_assigned_fids = peaklist_to_khipu_list(\n",
    "                                list_features, \n",
    "                                isotope_search_patterns=isotope_search_patterns_neg, \n",
    "                                adduct_search_patterns=adduct_search_patterns_neg,\n",
    "                                extended_adducts=extended_adducts, \n",
    "                                mz_tolerance_ppm=5,\n",
    "                                rt_tolerance=dict_rtwindow[study],\n",
    "                                mode=ion_mode,\n",
    "                                charges=[1, 2, 3],\n",
    "                                )\n",
    "\n",
    "        # convert khipu instances to dicts\n",
    "        list_khipus = sorted(export_empCpd_khipu_list(list_khipus), \n",
    "                            key=lambda x: x['neutral_formula_mass'], reverse=True)\n",
    "        fids_in_khipus = set([f['id'] for kp in list_khipus for f in kp['MS1_pseudo_Spectra']])\n",
    "        remaining_features = [f for f in list_features if f['id'] not in fids_in_khipus]\n",
    "        \n",
    "        # by isf_candidate_fragments\n",
    "        explained_khipu_ids, explained_feature_ids, delta_values_used = explain_a_dataset_by_mz_deltas(\n",
    "            list_khipus, remaining_features, isf_candidate_fragments_neg, \n",
    "            rt_stdev=dict_rtwindow[study]\n",
    "            )\n",
    "\n",
    "        dict_intensity_quartile = assign_intensity_quartile(list_features)\n",
    "        preannotated_feature_ids = set(list(fids_in_khipus) + explained_feature_ids)\n",
    "        quartile_matches = [dict_intensity_quartile[x] for x in preannotated_feature_ids]\n",
    "\n",
    "        cur_tally = {\n",
    "                'study': study,\n",
    "                'num_khipus': len(list_khipus),\n",
    "                'num_features':  len(list_features),\n",
    "                'mzdelta_explained_khipus': len(set(explained_khipu_ids)), \n",
    "                'mzdelta_explained_features': len(set(explained_feature_ids)),\n",
    "                'quartile_matches': quartile_matches,\n",
    "            }\n",
    "        tally_neg.append(cur_tally)\n",
    "        \n",
    "        M0_ids = [f['id'] for kp in list_khipus for f in kp['MS1_pseudo_Spectra'] if f['isotope'] == 'M0']\n",
    "        isotope_ids = [f['id'] for kp in list_khipus for f in kp['MS1_pseudo_Spectra'] if f['isotope'] != 'M0']\n",
    "        fragment_ids = explained_feature_ids\n",
    "        singleton_ids = [f['id'] for f in remaining_features if f['id'] not in fragment_ids]\n",
    "        \n",
    "        quartile_matches_neg[study] = {\n",
    "            'M0': [dict_intensity_quartile[x] for x in M0_ids],\n",
    "            'isotope': [dict_intensity_quartile[x] for x in isotope_ids],\n",
    "            'fragment': [dict_intensity_quartile[x] for x in fragment_ids],\n",
    "            'singletons': [dict_intensity_quartile[x] for x in singleton_ids],\n",
    "        }\n",
    "        round_id = '01192025_1'\n",
    "        os.makedirs(f'output/{round_id}/neg/{study}', exist_ok=True)\n",
    "        json.dump(list_khipus, open(f'output/{round_id}/neg/{study}/ecpds.json', 'w'))\n",
    "        json.dump(cur_tally, open(f'output/{round_id}/neg/{study}/tally.json', 'w'))\n",
    "        json.dump(quartile_matches_neg[study], open(f'output/{round_id}/neg/{study}/quartile_matches.json', 'w'))"
   ]
  },
  {
   "cell_type": "code",
   "execution_count": 372,
   "metadata": {},
   "outputs": [
    {
     "data": {
      "text/plain": [
       "{'M0': [33.91276937019504,\n",
       "  16.709750735692634,\n",
       "  11.181873238555669,\n",
       "  7.847161920813985],\n",
       " 'isotope': [21.755576755796085,\n",
       "  13.692228699749611,\n",
       "  8.709746702660198,\n",
       "  5.050222494392932],\n",
       " 'fragment': [3.3018331535960606,\n",
       "  2.278291943884258,\n",
       "  1.3035676398641833,\n",
       "  0.6327170196187519],\n",
       " 'singletons': [41.03057052218211,\n",
       "  67.31628304359532,\n",
       "  78.80317287427108,\n",
       "  86.47423388513208]}"
      ]
     },
     "execution_count": 372,
     "metadata": {},
     "output_type": "execute_result"
    }
   ],
   "source": [
    "# Get numbers of features explained by pre-annotation (= len(quartile_matches)), \n",
    "# and unique empCpds (= num_khipus - mzdelta_explained_khipus)\n",
    "# \n",
    "# fig3a\n",
    "preannotated_features = [len(x['quartile_matches']) for x in tally_neg]\n",
    "unique_empCpds = [x['num_khipus']-x['mzdelta_explained_khipus'] for x in tally_neg]\n",
    "\n",
    "#fig3b\n",
    "quartile_percs_neg_all_preannotated = [[], [], [], []]\n",
    "quartile_percs_neg = {'M0': [[], [], [], []], \n",
    "                      'isotope': [[], [], [], []], \n",
    "                      'fragment': [[], [], [], []], \n",
    "                      'singletons': [[], [], [], []], }\n",
    "for x in tally_neg:\n",
    "    list_q = x['quartile_matches']\n",
    "    quartile_size = x['num_features']/4\n",
    "    for type, q in quartile_matches_neg[x['study']].items():\n",
    "        for ii in range(4):\n",
    "            quartile_percs_neg[type][ii].append(100 * len([y for y in q if y==ii+1]) / quartile_size)\n",
    "            # Use all preannotated features for violin plot\n",
    "            quartile_percs_neg_all_preannotated[ii].append(100 * len([y for y in list_q if y==ii+1]) / quartile_size)\n",
    "\n",
    "\n",
    "median_perc_neg = {}\n",
    "for type, qpp in quartile_percs_neg.items():\n",
    "    median_perc_neg[type] = [np.mean(qpp[ii]) for ii in range(4)]\n",
    "median_perc_neg"
   ]
  },
  {
   "cell_type": "code",
   "execution_count": 373,
   "metadata": {},
   "outputs": [
    {
     "name": "stdout",
     "output_type": "stream",
     "text": [
      "17.412888816314336\n",
      "12.301943663149707\n",
      "1.8791024392408138\n",
      "68.40606508129515\n"
     ]
    }
   ],
   "source": [
    "# calculate overall explainable result across quartiles\n",
    "for type, qpp in quartile_percs_neg.items():\n",
    "    print(np.mean(qpp))"
   ]
  },
  {
   "cell_type": "code",
   "execution_count": 374,
   "metadata": {},
   "outputs": [
    {
     "name": "stdout",
     "output_type": "stream",
     "text": [
      "16305.0 5945.0\n"
     ]
    },
    {
     "data": {
      "image/png": "[encoded data removed]",
      "text/plain": [
       "<Figure size 270x450 with 1 Axes>"
      ]
     },
     "metadata": {},
     "output_type": "display_data"
    }
   ],
   "source": [
    "# Fig 3c. preannotated_features unique_empCpds\n",
    "_d = {\n",
    "    'Preannotated features': np.log10(preannotated_features),\n",
    "    'Unique empCpds': np.log10(unique_empCpds),\n",
    "}\n",
    "from matplotlib.ticker import FormatStrFormatter\n",
    "\n",
    "print(np.median(preannotated_features), np.median(unique_empCpds))\n",
    "colors = ['#32CD32', '#228B22']  # Forest Green, Lime Green\n",
    "\n",
    "fig, ax = plt.subplots(1, 1, figsize=(2.7, 4.5))\n",
    "boxplot = sns.boxplot(data=_d, width=0.5)\n",
    "for i, patch in enumerate(boxplot.patches):\n",
    "    hatch = \"\" if i % 2 == 0 else \"//\"  # Different hatches for alternating boxes\n",
    "    patch.set_hatch(hatch)\n",
    "    patch.set_edgecolor('black')  # Set border color\n",
    "    patch.set_facecolor('white')  # Remove fill color\n",
    "ax.tick_params(axis='x', rotation=315)\n",
    "ax.set_ylabel(\"log10(Number)\")\n",
    "ax.yaxis.set_major_formatter(FormatStrFormatter('%.1f'))  # Format y-axis with 2 decimal places\n",
    "\n",
    "ax.set_title(\"ESI- studies\")\n",
    "plt.tight_layout()\n",
    "plt.savefig('Fig3c_preannotation_neg.pdf')"
   ]
  },
  {
   "cell_type": "code",
   "execution_count": 345,
   "metadata": {},
   "outputs": [
    {
     "data": {
      "image/png": "[encoded data removed]",
      "text/plain": [
       "<Figure size 500x800 with 8 Axes>"
      ]
     },
     "metadata": {},
     "output_type": "display_data"
    }
   ],
   "source": [
    "# Fig. 3b. distribution of perc; pie chart for median pec\n",
    "piedata = [(median_perc_neg['M0'][i], median_perc_neg['isotope'][i], \n",
    "            median_perc_neg['fragment'][i], median_perc_neg['singletons'][i]) for i in range(4)]\n",
    "\n",
    "colors = ['#1f77b4', '#ffcc00', '#d62728', '#b0b0b0']  # Blue, Yellow, Red, Grey\n",
    "\n",
    "fig, axs = plt.subplots(4, 2, figsize=(5, 8), gridspec_kw={'wspace': 0.05}) \n",
    "\n",
    "\n",
    "for ii in range(4):\n",
    "    parts = axs[ii, 0].violinplot(\n",
    "        quartile_percs_neg_all_preannotated[ii],\n",
    "        showmedians=True,\n",
    "        showextrema=True\n",
    "    )\n",
    "    axs[ii, 0].set_yticks([0, 50, 100])\n",
    "    axs[ii, 0].tick_params(axis='x', which='both', bottom=True, labelbottom=False)  # Hide tick labels but keep ticks\n",
    "    \n",
    "    # Adjust the width of the violin plot (axs[ii, 0])\n",
    "    pos = axs[ii, 0].get_position()  # Get current position of the violin plot\n",
    "    axs[ii, 0].set_position([pos.x0 + 0.05, pos.y0, pos.width * 0.5, pos.height])  # Make it 50% narrower\n",
    "\n",
    "\n",
    "    axs[ii, 1].pie(\n",
    "        piedata[ii], \n",
    "        colors=colors, \n",
    "        radius=0.8, \n",
    "        startangle=90, \n",
    "        counterclock=False,\n",
    "        # autopct='%1.1f%%'\n",
    "        )\n",
    "    # axs[ii].set_title(f\"{(ii)*25}% - {(ii + 1)*25}%\") \n",
    "    \n",
    "    pos_pie = axs[ii, 1].get_position()  # Get current position of the pie chart\n",
    "    axs[ii, 1].set_position([pos_pie.x0 - 0.14, pos_pie.y0, pos_pie.width, pos_pie.height])  \n",
    "    \n",
    "plt.tight_layout()\n",
    "plt.savefig(\"Fig3b_preannotation_neg_piecharts.pdf\")"
   ]
  },
  {
   "cell_type": "code",
   "execution_count": 346,
   "metadata": {},
   "outputs": [
    {
     "data": {
      "text/plain": [
       "[(33.91276937019504,\n",
       "  21.755576755796085,\n",
       "  3.3018331535960606,\n",
       "  41.03057052218211),\n",
       " (16.709750735692634,\n",
       "  13.692228699749611,\n",
       "  2.278291943884258,\n",
       "  67.31628304359532),\n",
       " (11.181873238555669,\n",
       "  8.709746702660198,\n",
       "  1.3035676398641833,\n",
       "  78.80317287427108),\n",
       " (7.847161920813985, 5.050222494392932, 0.6327170196187519, 86.47423388513208)]"
      ]
     },
     "execution_count": 346,
     "metadata": {},
     "output_type": "execute_result"
    }
   ],
   "source": [
    "piedata"
   ]
  },
  {
   "cell_type": "markdown",
   "metadata": {},
   "source": [
    "# Conclusion\n",
    "\n",
    "This notebook plots Figure 3. \n",
    "\n",
    "Numbers of pre-annotated features by extended khipus in all studies.\n",
    "a,b. Distribution of numbers of pre-annotated features, median value 17,499 and 17,974 for positive and negative ionization datasets, respectively. They correspond to 5,675 and 6,224 unique empirical compounds, respectively.\n",
    "\n",
    " c,d. Percentage distribution of pre-annotated features in each intensity quartile in each study, for positive and negative ionization datasets, respectively. The pie charts show median percentage in each quartile, respectively. "
   ]
  }
 ],
 "metadata": {
  "kernelspec": {
   "display_name": "venv",
   "language": "python",
   "name": "python3"
  },
  "language_info": {
   "codemirror_mode": {
    "name": "ipython",
    "version": 3
   },
   "file_extension": ".py",
   "mimetype": "text/x-python",
   "name": "python",
   "nbconvert_exporter": "python",
   "pygments_lexer": "ipython3",
   "version": "3.12.4"
  }
 },
 "nbformat": 4,
 "nbformat_minor": 2
}
